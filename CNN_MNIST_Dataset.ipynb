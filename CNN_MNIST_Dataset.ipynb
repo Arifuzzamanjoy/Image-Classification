{
  "cells": [
    {
      "cell_type": "markdown",
      "metadata": {
        "id": "view-in-github",
        "colab_type": "text"
      },
      "source": [
        "<a href=\"https://colab.research.google.com/github/Arifuzzamanjoy/Image-Classification/blob/main/CNN_MNIST_Dataset.ipynb\" target=\"_parent\"><img src=\"https://colab.research.google.com/assets/colab-badge.svg\" alt=\"Open In Colab\"/></a>"
      ]
    },
    {
      "cell_type": "markdown",
      "metadata": {
        "id": "G9FFHi6VbiJe"
      },
      "source": [
        "In this section, we will use the famous [MNIST Dataset](http://yann.lecun.com/exdb/mnist/?utm_medium=Exinfluencer&utm_source=Exinfluencer&utm_content=000026UJ&utm_term=10006555&utm_id=NA-SkillsNetwork-Channel-SkillsNetworkCoursesIBMDeveloperSkillsNetworkDL0120ENSkillsNetwork954-2023-01-01) to build two Neural Networks capable to perform handwritten digits classification. The first Network is a simple Multi-layer Perceptron (MLP) and the second one is a Convolutional Neural Network (CNN from now on). In other words, when given an input our algorithm will say, with some associated error, what type of digit this input represents.\n"
      ]
    },
    {
      "cell_type": "markdown",
      "metadata": {
        "id": "xEly5FWmbiJf"
      },
      "source": [
        "---\n"
      ]
    },
    {
      "cell_type": "markdown",
      "metadata": {
        "id": "-nGFZrWHbiJh"
      },
      "source": [
        "<a id=\"ref1\"></a>\n",
        "<h2>What is Deep Learning?</h2>\n"
      ]
    },
    {
      "cell_type": "markdown",
      "metadata": {
        "id": "C8tKeNBabiJj"
      },
      "source": [
        "<b>Brief Theory:</b> Deep learning (also known as deep structured learning, hierarchical learning or deep machine learning) is a branch of machine learning based on a set of algorithms that attempt to model high-level abstractions in data by using multiple processing layers, with complex structures or otherwise, composed of multiple non-linear transformations.\n"
      ]
    },
    {
      "cell_type": "markdown",
      "metadata": {
        "id": "WDBxtVvfbiJk"
      },
      "source": [
        "<img src=\"https://ibm.box.com/shared/static/gcbbrh440604cj2nksu3f44be87b8ank.png\" alt=\"HTML5 Icon\" style=\"width: 600px; height: 450px;\">\n",
        "<div style=\"text-align: center\">It's time for deep learning. Our brain doesn't work with only one or three layers. Why it would be different with machines?. </div>\n"
      ]
    },
    {
      "cell_type": "markdown",
      "metadata": {
        "id": "0W6kU1dobiJl"
      },
      "source": [
        "<b>In Practice, defining the term \"Deep\":</b> in this context, deep means that we are studying a Neural Network which has several hidden layers (more than one), no matter what type (convolutional, pooling, normalization, fully-connected etc). The most interesting part is that some papers noticed that Deep Neural Networks with the right architectures/hyper-parameters achieve better results than shallow Neural Networks with the same computational power (e.g. number of neurons or connections).\n"
      ]
    },
    {
      "cell_type": "markdown",
      "metadata": {
        "id": "jlZlI17bbiJl"
      },
      "source": [
        "<b>In Practice, defining \"Learning\":</b> In the context of supervised learning, digits recognition in our case, the learning part consists of a target/feature which is to be predicted using a given set of observations with the already known final prediction (label). In our case, the target will be the digit (0, 1, 2, 3, 4, 5, 6, 7, 8, 9) and the observations are the intensity and relative position of the pixels. After some training, it is possible to generate a \"function\" that map inputs (digit image) to desired outputs(type of digit). The only problem is how well this map operation occurs. While trying to generate this \"function\", the training process continues until the model achieves a desired level of accuracy on the training data.\n"
      ]
    },
    {
      "cell_type": "markdown",
      "metadata": {
        "id": "i8OIZ6xybiJm"
      },
      "source": [
        "<hr>\n"
      ]
    },
    {
      "cell_type": "markdown",
      "metadata": {
        "id": "5-PTD64LbiJm"
      },
      "source": [
        "<h2>Installing TensorFlow </h2>\n",
        "\n",
        "We begin by installing TensorFlow version 2.9.0 and its required prerequistes.\n"
      ]
    },
    {
      "cell_type": "code",
      "execution_count": 1,
      "metadata": {
        "colab": {
          "base_uri": "https://localhost:8080/",
          "height": 1000
        },
        "id": "oufG0XpcbiJn",
        "outputId": "5b2d5eac-1ad2-451a-88e1-efc7cb9bfeb8"
      },
      "outputs": [
        {
          "output_type": "stream",
          "name": "stdout",
          "text": [
            "Collecting grpcio==1.24.3\n",
            "  Downloading grpcio-1.24.3.tar.gz (14.0 MB)\n",
            "\u001b[2K     \u001b[90m━━━━━━━━━━━━━━━━━━━━━━━━━━━━━━━━━━━━━━━━\u001b[0m \u001b[32m14.0/14.0 MB\u001b[0m \u001b[31m29.2 MB/s\u001b[0m eta \u001b[36m0:00:00\u001b[0m\n",
            "\u001b[?25h  Preparing metadata (setup.py) ... \u001b[?25l\u001b[?25hdone\n",
            "Requirement already satisfied: six>=1.5.2 in /usr/local/lib/python3.10/dist-packages (from grpcio==1.24.3) (1.16.0)\n",
            "Building wheels for collected packages: grpcio\n",
            "  \u001b[1;31merror\u001b[0m: \u001b[1msubprocess-exited-with-error\u001b[0m\n",
            "  \n",
            "  \u001b[31m×\u001b[0m \u001b[32mpython setup.py bdist_wheel\u001b[0m did not run successfully.\n",
            "  \u001b[31m│\u001b[0m exit code: \u001b[1;36m1\u001b[0m\n",
            "  \u001b[31m╰─>\u001b[0m See above for output.\n",
            "  \n",
            "  \u001b[1;35mnote\u001b[0m: This error originates from a subprocess, and is likely not a problem with pip.\n",
            "  Building wheel for grpcio (setup.py) ... \u001b[?25lerror\n",
            "\u001b[31m  ERROR: Failed building wheel for grpcio\u001b[0m\u001b[31m\n",
            "\u001b[0m\u001b[?25h  Running setup.py clean for grpcio\n",
            "Failed to build grpcio\n",
            "\u001b[31mERROR: Could not build wheels for grpcio, which is required to install pyproject.toml-based projects\u001b[0m\u001b[31m\n",
            "\u001b[0mCollecting tensorflow==2.9.0\n",
            "  Downloading tensorflow-2.9.0-cp310-cp310-manylinux_2_17_x86_64.manylinux2014_x86_64.whl (511.7 MB)\n",
            "\u001b[2K     \u001b[90m━━━━━━━━━━━━━━━━━━━━━━━━━━━━━━━━━━━━━━━\u001b[0m \u001b[32m511.7/511.7 MB\u001b[0m \u001b[31m2.5 MB/s\u001b[0m eta \u001b[36m0:00:00\u001b[0m\n",
            "\u001b[?25hRequirement already satisfied: absl-py>=1.0.0 in /usr/local/lib/python3.10/dist-packages (from tensorflow==2.9.0) (1.4.0)\n",
            "Requirement already satisfied: astunparse>=1.6.0 in /usr/local/lib/python3.10/dist-packages (from tensorflow==2.9.0) (1.6.3)\n",
            "Collecting flatbuffers<2,>=1.12 (from tensorflow==2.9.0)\n",
            "  Downloading flatbuffers-1.12-py2.py3-none-any.whl (15 kB)\n",
            "Requirement already satisfied: gast<=0.4.0,>=0.2.1 in /usr/local/lib/python3.10/dist-packages (from tensorflow==2.9.0) (0.4.0)\n",
            "Requirement already satisfied: google-pasta>=0.1.1 in /usr/local/lib/python3.10/dist-packages (from tensorflow==2.9.0) (0.2.0)\n",
            "Requirement already satisfied: grpcio<2.0,>=1.24.3 in /usr/local/lib/python3.10/dist-packages (from tensorflow==2.9.0) (1.56.2)\n",
            "Requirement already satisfied: h5py>=2.9.0 in /usr/local/lib/python3.10/dist-packages (from tensorflow==2.9.0) (3.9.0)\n",
            "Collecting keras<2.10.0,>=2.9.0rc0 (from tensorflow==2.9.0)\n",
            "  Downloading keras-2.9.0-py2.py3-none-any.whl (1.6 MB)\n",
            "\u001b[2K     \u001b[90m━━━━━━━━━━━━━━━━━━━━━━━━━━━━━━━━━━━━━━━━\u001b[0m \u001b[32m1.6/1.6 MB\u001b[0m \u001b[31m60.5 MB/s\u001b[0m eta \u001b[36m0:00:00\u001b[0m\n",
            "\u001b[?25hCollecting keras-preprocessing>=1.1.1 (from tensorflow==2.9.0)\n",
            "  Downloading Keras_Preprocessing-1.1.2-py2.py3-none-any.whl (42 kB)\n",
            "\u001b[2K     \u001b[90m━━━━━━━━━━━━━━━━━━━━━━━━━━━━━━━━━━━━━━━━\u001b[0m \u001b[32m42.6/42.6 kB\u001b[0m \u001b[31m3.2 MB/s\u001b[0m eta \u001b[36m0:00:00\u001b[0m\n",
            "\u001b[?25hRequirement already satisfied: libclang>=13.0.0 in /usr/local/lib/python3.10/dist-packages (from tensorflow==2.9.0) (16.0.6)\n",
            "Requirement already satisfied: numpy>=1.20 in /usr/local/lib/python3.10/dist-packages (from tensorflow==2.9.0) (1.23.5)\n",
            "Requirement already satisfied: opt-einsum>=2.3.2 in /usr/local/lib/python3.10/dist-packages (from tensorflow==2.9.0) (3.3.0)\n",
            "Requirement already satisfied: packaging in /usr/local/lib/python3.10/dist-packages (from tensorflow==2.9.0) (23.1)\n",
            "Requirement already satisfied: protobuf>=3.9.2 in /usr/local/lib/python3.10/dist-packages (from tensorflow==2.9.0) (3.20.3)\n",
            "Requirement already satisfied: setuptools in /usr/local/lib/python3.10/dist-packages (from tensorflow==2.9.0) (67.7.2)\n",
            "Requirement already satisfied: six>=1.12.0 in /usr/local/lib/python3.10/dist-packages (from tensorflow==2.9.0) (1.16.0)\n",
            "Collecting tensorboard<2.10,>=2.9 (from tensorflow==2.9.0)\n",
            "  Downloading tensorboard-2.9.1-py3-none-any.whl (5.8 MB)\n",
            "\u001b[2K     \u001b[90m━━━━━━━━━━━━━━━━━━━━━━━━━━━━━━━━━━━━━━━━\u001b[0m \u001b[32m5.8/5.8 MB\u001b[0m \u001b[31m88.9 MB/s\u001b[0m eta \u001b[36m0:00:00\u001b[0m\n",
            "\u001b[?25hRequirement already satisfied: tensorflow-io-gcs-filesystem>=0.23.1 in /usr/local/lib/python3.10/dist-packages (from tensorflow==2.9.0) (0.33.0)\n",
            "Collecting tensorflow-estimator<2.10.0,>=2.9.0rc0 (from tensorflow==2.9.0)\n",
            "  Downloading tensorflow_estimator-2.9.0-py2.py3-none-any.whl (438 kB)\n",
            "\u001b[2K     \u001b[90m━━━━━━━━━━━━━━━━━━━━━━━━━━━━━━━━━━━━━━\u001b[0m \u001b[32m438.7/438.7 kB\u001b[0m \u001b[31m31.6 MB/s\u001b[0m eta \u001b[36m0:00:00\u001b[0m\n",
            "\u001b[?25hRequirement already satisfied: termcolor>=1.1.0 in /usr/local/lib/python3.10/dist-packages (from tensorflow==2.9.0) (2.3.0)\n",
            "Requirement already satisfied: typing-extensions>=3.6.6 in /usr/local/lib/python3.10/dist-packages (from tensorflow==2.9.0) (4.7.1)\n",
            "Requirement already satisfied: wrapt>=1.11.0 in /usr/local/lib/python3.10/dist-packages (from tensorflow==2.9.0) (1.14.1)\n",
            "Requirement already satisfied: wheel<1.0,>=0.23.0 in /usr/local/lib/python3.10/dist-packages (from astunparse>=1.6.0->tensorflow==2.9.0) (0.41.1)\n",
            "Requirement already satisfied: google-auth<3,>=1.6.3 in /usr/local/lib/python3.10/dist-packages (from tensorboard<2.10,>=2.9->tensorflow==2.9.0) (2.17.3)\n",
            "Collecting google-auth-oauthlib<0.5,>=0.4.1 (from tensorboard<2.10,>=2.9->tensorflow==2.9.0)\n",
            "  Downloading google_auth_oauthlib-0.4.6-py2.py3-none-any.whl (18 kB)\n",
            "Requirement already satisfied: markdown>=2.6.8 in /usr/local/lib/python3.10/dist-packages (from tensorboard<2.10,>=2.9->tensorflow==2.9.0) (3.4.4)\n",
            "Collecting protobuf>=3.9.2 (from tensorflow==2.9.0)\n",
            "  Downloading protobuf-3.19.6-cp310-cp310-manylinux_2_17_x86_64.manylinux2014_x86_64.whl (1.1 MB)\n",
            "\u001b[2K     \u001b[90m━━━━━━━━━━━━━━━━━━━━━━━━━━━━━━━━━━━━━━━━\u001b[0m \u001b[32m1.1/1.1 MB\u001b[0m \u001b[31m55.6 MB/s\u001b[0m eta \u001b[36m0:00:00\u001b[0m\n",
            "\u001b[?25hRequirement already satisfied: requests<3,>=2.21.0 in /usr/local/lib/python3.10/dist-packages (from tensorboard<2.10,>=2.9->tensorflow==2.9.0) (2.31.0)\n",
            "Collecting tensorboard-data-server<0.7.0,>=0.6.0 (from tensorboard<2.10,>=2.9->tensorflow==2.9.0)\n",
            "  Downloading tensorboard_data_server-0.6.1-py3-none-manylinux2010_x86_64.whl (4.9 MB)\n",
            "\u001b[2K     \u001b[90m━━━━━━━━━━━━━━━━━━━━━━━━━━━━━━━━━━━━━━━━\u001b[0m \u001b[32m4.9/4.9 MB\u001b[0m \u001b[31m90.5 MB/s\u001b[0m eta \u001b[36m0:00:00\u001b[0m\n",
            "\u001b[?25hCollecting tensorboard-plugin-wit>=1.6.0 (from tensorboard<2.10,>=2.9->tensorflow==2.9.0)\n",
            "  Downloading tensorboard_plugin_wit-1.8.1-py3-none-any.whl (781 kB)\n",
            "\u001b[2K     \u001b[90m━━━━━━━━━━━━━━━━━━━━━━━━━━━━━━━━━━━━━━\u001b[0m \u001b[32m781.3/781.3 kB\u001b[0m \u001b[31m36.8 MB/s\u001b[0m eta \u001b[36m0:00:00\u001b[0m\n",
            "\u001b[?25hRequirement already satisfied: werkzeug>=1.0.1 in /usr/local/lib/python3.10/dist-packages (from tensorboard<2.10,>=2.9->tensorflow==2.9.0) (2.3.6)\n",
            "Requirement already satisfied: cachetools<6.0,>=2.0.0 in /usr/local/lib/python3.10/dist-packages (from google-auth<3,>=1.6.3->tensorboard<2.10,>=2.9->tensorflow==2.9.0) (5.3.1)\n",
            "Requirement already satisfied: pyasn1-modules>=0.2.1 in /usr/local/lib/python3.10/dist-packages (from google-auth<3,>=1.6.3->tensorboard<2.10,>=2.9->tensorflow==2.9.0) (0.3.0)\n",
            "Requirement already satisfied: rsa<5,>=3.1.4 in /usr/local/lib/python3.10/dist-packages (from google-auth<3,>=1.6.3->tensorboard<2.10,>=2.9->tensorflow==2.9.0) (4.9)\n",
            "Requirement already satisfied: requests-oauthlib>=0.7.0 in /usr/local/lib/python3.10/dist-packages (from google-auth-oauthlib<0.5,>=0.4.1->tensorboard<2.10,>=2.9->tensorflow==2.9.0) (1.3.1)\n",
            "Requirement already satisfied: charset-normalizer<4,>=2 in /usr/local/lib/python3.10/dist-packages (from requests<3,>=2.21.0->tensorboard<2.10,>=2.9->tensorflow==2.9.0) (3.2.0)\n",
            "Requirement already satisfied: idna<4,>=2.5 in /usr/local/lib/python3.10/dist-packages (from requests<3,>=2.21.0->tensorboard<2.10,>=2.9->tensorflow==2.9.0) (3.4)\n",
            "Requirement already satisfied: urllib3<3,>=1.21.1 in /usr/local/lib/python3.10/dist-packages (from requests<3,>=2.21.0->tensorboard<2.10,>=2.9->tensorflow==2.9.0) (2.0.4)\n",
            "Requirement already satisfied: certifi>=2017.4.17 in /usr/local/lib/python3.10/dist-packages (from requests<3,>=2.21.0->tensorboard<2.10,>=2.9->tensorflow==2.9.0) (2023.7.22)\n",
            "Requirement already satisfied: MarkupSafe>=2.1.1 in /usr/local/lib/python3.10/dist-packages (from werkzeug>=1.0.1->tensorboard<2.10,>=2.9->tensorflow==2.9.0) (2.1.3)\n",
            "Requirement already satisfied: pyasn1<0.6.0,>=0.4.6 in /usr/local/lib/python3.10/dist-packages (from pyasn1-modules>=0.2.1->google-auth<3,>=1.6.3->tensorboard<2.10,>=2.9->tensorflow==2.9.0) (0.5.0)\n",
            "Requirement already satisfied: oauthlib>=3.0.0 in /usr/local/lib/python3.10/dist-packages (from requests-oauthlib>=0.7.0->google-auth-oauthlib<0.5,>=0.4.1->tensorboard<2.10,>=2.9->tensorflow==2.9.0) (3.2.2)\n",
            "Installing collected packages: tensorboard-plugin-wit, keras, flatbuffers, tensorflow-estimator, tensorboard-data-server, protobuf, keras-preprocessing, google-auth-oauthlib, tensorboard, tensorflow\n",
            "  Attempting uninstall: keras\n",
            "    Found existing installation: keras 2.12.0\n",
            "    Uninstalling keras-2.12.0:\n",
            "      Successfully uninstalled keras-2.12.0\n",
            "  Attempting uninstall: flatbuffers\n",
            "    Found existing installation: flatbuffers 23.5.26\n",
            "    Uninstalling flatbuffers-23.5.26:\n",
            "      Successfully uninstalled flatbuffers-23.5.26\n",
            "  Attempting uninstall: tensorflow-estimator\n",
            "    Found existing installation: tensorflow-estimator 2.12.0\n",
            "    Uninstalling tensorflow-estimator-2.12.0:\n",
            "      Successfully uninstalled tensorflow-estimator-2.12.0\n",
            "  Attempting uninstall: tensorboard-data-server\n",
            "    Found existing installation: tensorboard-data-server 0.7.1\n",
            "    Uninstalling tensorboard-data-server-0.7.1:\n",
            "      Successfully uninstalled tensorboard-data-server-0.7.1\n",
            "  Attempting uninstall: protobuf\n",
            "    Found existing installation: protobuf 3.20.3\n",
            "    Uninstalling protobuf-3.20.3:\n",
            "      Successfully uninstalled protobuf-3.20.3\n",
            "  Attempting uninstall: google-auth-oauthlib\n",
            "    Found existing installation: google-auth-oauthlib 1.0.0\n",
            "    Uninstalling google-auth-oauthlib-1.0.0:\n",
            "      Successfully uninstalled google-auth-oauthlib-1.0.0\n",
            "  Attempting uninstall: tensorboard\n",
            "    Found existing installation: tensorboard 2.12.3\n",
            "    Uninstalling tensorboard-2.12.3:\n",
            "      Successfully uninstalled tensorboard-2.12.3\n",
            "  Attempting uninstall: tensorflow\n",
            "    Found existing installation: tensorflow 2.12.0\n",
            "    Uninstalling tensorflow-2.12.0:\n",
            "      Successfully uninstalled tensorflow-2.12.0\n",
            "\u001b[31mERROR: pip's dependency resolver does not currently take into account all the packages that are installed. This behaviour is the source of the following dependency conflicts.\n",
            "tensorflow-datasets 4.9.2 requires protobuf>=3.20, but you have protobuf 3.19.6 which is incompatible.\n",
            "tensorflow-metadata 1.13.1 requires protobuf<5,>=3.20.3, but you have protobuf 3.19.6 which is incompatible.\u001b[0m\u001b[31m\n",
            "\u001b[0mSuccessfully installed flatbuffers-1.12 google-auth-oauthlib-0.4.6 keras-2.9.0 keras-preprocessing-1.1.2 protobuf-3.19.6 tensorboard-2.9.1 tensorboard-data-server-0.6.1 tensorboard-plugin-wit-1.8.1 tensorflow-2.9.0 tensorflow-estimator-2.9.0\n"
          ]
        },
        {
          "output_type": "display_data",
          "data": {
            "application/vnd.colab-display-data+json": {
              "pip_warning": {
                "packages": [
                  "google"
                ]
              }
            }
          },
          "metadata": {}
        }
      ],
      "source": [
        "!pip install grpcio==1.24.3\n",
        "#!pip install tensorflow==2.9.0"
      ]
    },
    {
      "cell_type": "markdown",
      "metadata": {
        "id": "Y6XjGDekbiJp"
      },
      "source": [
        "<b>Notice:</b> This notebook has been created with TensorFlow version 2.9.0, and might not work with other versions. Therefore we check:\n"
      ]
    },
    {
      "cell_type": "code",
      "execution_count": 2,
      "metadata": {
        "id": "34gReU5zbiJt"
      },
      "outputs": [],
      "source": [
        "import tensorflow as tf\n",
        "from IPython.display import Markdown, display\n",
        "\n",
        "def printmd(string):\n",
        "    display(Markdown('# <span style=\"color:red\">'+string+'</span>'))\n",
        "\n",
        "\n",
        "if not tf.__version__ == '2.9.0':\n",
        "    printmd('<<<<<!!!!! ERROR !!!! please upgrade to TensorFlow 2.9.0, or restart your Kernel (Kernel->Restart & Clear Output)>>>>>')"
      ]
    },
    {
      "cell_type": "markdown",
      "metadata": {
        "id": "OADfvMt1biJu"
      },
      "source": [
        "In this tutorial, we first classify MNIST using a simple Multi-layer perceptron and then, in the second part, we use deeplearning to improve the accuracy of our results.\n",
        "\n",
        "<a id=\"ref3\"></a>\n",
        "<h2>1st part: classify MNIST using a simple model.</h2>\n"
      ]
    },
    {
      "cell_type": "markdown",
      "metadata": {
        "id": "YyV4-YSXbiJu"
      },
      "source": [
        "We are going to create a simple Multi-layer perceptron, a simple type of Neural Network, to perform classification tasks on the MNIST digits dataset. If you are not familiar with the MNIST dataset, please consider to read more about it: <a href=\"http://yann.lecun.com/exdb/mnist/?utm_medium=Exinfluencer&utm_source=Exinfluencer&utm_content=000026UJ&utm_term=10006555&utm_id=NA-SkillsNetwork-Channel-SkillsNetworkCoursesIBMDeveloperSkillsNetworkDL0120ENSkillsNetwork954-2023-01-01\">click here</a>\n"
      ]
    },
    {
      "cell_type": "markdown",
      "metadata": {
        "id": "2jG3mTF7biJu"
      },
      "source": [
        "<h3>What is MNIST?</h3>\n"
      ]
    },
    {
      "cell_type": "markdown",
      "metadata": {
        "id": "GH4YeQK2biJv"
      },
      "source": [
        "According to LeCun's website, the MNIST is a: \"database of handwritten digits that has a training set of 60,000 examples, and a test set of 10,000 examples. It is a subset of a larger set available from NIST. The digits have been size-normalized and centered in a fixed-size image\".\n"
      ]
    },
    {
      "cell_type": "markdown",
      "metadata": {
        "id": "Sn-cLbbybiJv"
      },
      "source": [
        "<h3>Import the MNIST dataset using TensorFlow built-in feature</h3>\n"
      ]
    },
    {
      "cell_type": "markdown",
      "metadata": {
        "id": "CeH1fGw0biJv"
      },
      "source": [
        "It's very important to notice that MNIST is a high optimized data-set and it does not contain images. You will need to build your own code if you want to see the real digits. Another important side note is the effort that the authors invested on this data-set with normalization and centering operations.  \n"
      ]
    },
    {
      "cell_type": "code",
      "execution_count": 3,
      "metadata": {
        "colab": {
          "base_uri": "https://localhost:8080/"
        },
        "id": "PBFBZSXRbiJw",
        "outputId": "d5d0de5f-17ef-470b-e506-26eb80eef2c9"
      },
      "outputs": [
        {
          "output_type": "stream",
          "name": "stdout",
          "text": [
            "Downloading data from https://storage.googleapis.com/tensorflow/tf-keras-datasets/mnist.npz\n",
            "11490434/11490434 [==============================] - 0s 0us/step\n"
          ]
        }
      ],
      "source": [
        "mnist = tf.keras.datasets.mnist\n",
        "(x_train, y_train), (x_test, y_test) = mnist.load_data()"
      ]
    },
    {
      "cell_type": "markdown",
      "metadata": {
        "id": "L2PJW4sxbiJx"
      },
      "source": [
        "The features data are between 0 and 255, and we will normalize this to improve optimization performance.\n"
      ]
    },
    {
      "cell_type": "code",
      "execution_count": 7,
      "metadata": {
        "id": "UuLCBoZebiJx"
      },
      "outputs": [],
      "source": [
        "x_train, x_test = x_train / 255.0, x_test / 255.0"
      ]
    },
    {
      "cell_type": "markdown",
      "metadata": {
        "id": "ctgJcGuJbiJy"
      },
      "source": [
        "Let's take a look at the first few label values:\n"
      ]
    },
    {
      "cell_type": "code",
      "execution_count": 9,
      "metadata": {
        "colab": {
          "base_uri": "https://localhost:8080/"
        },
        "id": "vRL_pHGMbiJz",
        "outputId": "81610737-a4a6-4332-ba5d-cd12dd6d168b"
      },
      "outputs": [
        {
          "output_type": "stream",
          "name": "stdout",
          "text": [
            "[5 0 4 1 9]\n"
          ]
        }
      ],
      "source": [
        "print(y_train[0:5])"
      ]
    },
    {
      "cell_type": "markdown",
      "metadata": {
        "id": "E6Qqo4xobiJz"
      },
      "source": [
        "The current label scheme simply identifies the category to which each data point belongs (each handwritten digit is assigned a category equal to the number value).  We need to convert this into a one-hot encoded vector.  In contrast to Binary representation, the labels will be presented in a way that to represent a number N, the $N^{th}$ bit is 1 while the the other bits are 0. For example, five and zero in a binary code would be:\n"
      ]
    },
    {
      "cell_type": "markdown",
      "metadata": {
        "id": "OCmIvWmNbiJ0"
      },
      "source": [
        "<pre>\n",
        "Number representation:    0\n",
        "Binary encoding:        [2^5]  [2^4]   [2^3]   [2^2]   [2^1]   [2^0]  \n",
        "Array/vector:             0      0       0       0       0       0\n",
        "\n",
        "Number representation:    5\n",
        "Binary encoding:        [2^5]  [2^4]   [2^3]   [2^2]   [2^1]   [2^0]  \n",
        "Array/vector:             0      0       0       1       0       1  \n",
        "</pre>\n"
      ]
    },
    {
      "cell_type": "markdown",
      "metadata": {
        "id": "rQRJQNv7biJ0"
      },
      "source": [
        "Using a different notation, the same digits using one-hot vector representation can be show as:\n"
      ]
    },
    {
      "cell_type": "markdown",
      "metadata": {
        "id": "7YVYG7yCbiJ0"
      },
      "source": [
        "<pre>\n",
        "Number representation:    0\n",
        "One-hot encoding:        [5]   [4]    [3]    [2]    [1]   [0]  \n",
        "Array/vector:             0     0      0      0      0     1   \n",
        "\n",
        "Number representation:    5\n",
        "One-hot encoding:        [5]   [4]    [3]    [2]    [1]    [0]  \n",
        "Array/vector:             1     0      0      0      0      0   \n",
        "</pre>\n"
      ]
    },
    {
      "cell_type": "markdown",
      "metadata": {
        "id": "NgEa_MKqbiJ1"
      },
      "source": [
        "This is a standard operation, and is shown below.\n"
      ]
    },
    {
      "cell_type": "code",
      "execution_count": 10,
      "metadata": {
        "colab": {
          "base_uri": "https://localhost:8080/"
        },
        "id": "hkGA8-I-biJ1",
        "outputId": "8255dd15-0734-4b44-a884-3be18536d6b1"
      },
      "outputs": [
        {
          "output_type": "stream",
          "name": "stdout",
          "text": [
            "categorical labels\n",
            "[5 0 4 1 9]\n",
            "one hot encoded labels\n",
            "tf.Tensor(\n",
            "[[0. 0. 0. 0. 0. 1. 0. 0. 0. 0.]\n",
            " [1. 0. 0. 0. 0. 0. 0. 0. 0. 0.]\n",
            " [0. 0. 0. 0. 1. 0. 0. 0. 0. 0.]\n",
            " [0. 1. 0. 0. 0. 0. 0. 0. 0. 0.]\n",
            " [0. 0. 0. 0. 0. 0. 0. 0. 0. 1.]], shape=(5, 10), dtype=float32)\n"
          ]
        }
      ],
      "source": [
        "print(\"categorical labels\")\n",
        "print(y_train[0:5])\n",
        "\n",
        "# make labels one hot encoded\n",
        "y_train = tf.one_hot(y_train, 10)\n",
        "y_test = tf.one_hot(y_test, 10)\n",
        "\n",
        "print(\"one hot encoded labels\")\n",
        "print(y_train[0:5])"
      ]
    },
    {
      "cell_type": "markdown",
      "metadata": {
        "id": "hMlbfOhEbiJ1"
      },
      "source": [
        "<h3>Understanding the imported data</h3>\n"
      ]
    },
    {
      "cell_type": "markdown",
      "metadata": {
        "id": "JLO7xSGybiJ2"
      },
      "source": [
        "The imported data can be divided as follows:\n",
        "\n",
        "- Training >>  Use the given dataset with inputs and related outputs for training of NN. In our case, if you give an image that you know that represents a \"nine\", this set will tell the neural network that we expect a \"nine\" as the output.  \n",
        "        - 60,000 data points\n",
        "        - x_train for inputs\n",
        "        - y_train for outputs/labels\n",
        "  \n",
        "\n",
        "- Test >> The model does not have access to this information prior to the testing phase. It is used to evaluate the performance and accuracy of the model against \"real life situations\". No further optimization beyond this point.  \n",
        "        - 10,000 data points\n",
        "        - x_test for inputs\n",
        "        - y_test for outputs/labels\n",
        "\n",
        "- Validation data is not used in this example.\n"
      ]
    },
    {
      "cell_type": "code",
      "execution_count": 11,
      "metadata": {
        "colab": {
          "base_uri": "https://localhost:8080/"
        },
        "id": "s_tpICJpbiJ2",
        "outputId": "6e198742-216c-4bae-cd0f-d9ec16536e01"
      },
      "outputs": [
        {
          "output_type": "stream",
          "name": "stdout",
          "text": [
            "number of training examples: 60000\n",
            "number of test examples: 10000\n"
          ]
        }
      ],
      "source": [
        "print(\"number of training examples:\" , x_train.shape[0])\n",
        "print(\"number of test examples:\" , x_test.shape[0])"
      ]
    },
    {
      "cell_type": "markdown",
      "metadata": {
        "id": "r406g6y7biJ2"
      },
      "source": [
        "The new Dataset API in TensorFlow 2.X allows you to define batch sizes as part of the dataset.  It also has improved I/O characteristics, and is the recommended way of loading data.  This allows you to iterate through  subsets (batches) of the data during training.  This is a common practice that improves performance by computing gradients over smaller batches.  We will see this in action during the training step.  \n",
        "\n",
        "Additionally, you can shuffle the dataset if you believe that there is a skewed distribution of data in the original dataset that may result in batches with different distributions.  We aren't shuffling data here.\n"
      ]
    },
    {
      "cell_type": "code",
      "execution_count": 12,
      "metadata": {
        "id": "roQ7hDgWbiJ4"
      },
      "outputs": [],
      "source": [
        "train_ds = tf.data.Dataset.from_tensor_slices((x_train, y_train)).batch(50)\n",
        "test_ds = tf.data.Dataset.from_tensor_slices((x_test, y_test)).batch(50)"
      ]
    },
    {
      "cell_type": "markdown",
      "metadata": {
        "id": "nJKPxY0FbiJ5"
      },
      "source": [
        "<h3>Converting a 2D Image into a 1D Vector</h3>\n"
      ]
    },
    {
      "cell_type": "markdown",
      "metadata": {
        "id": "-slKA7tCbiJ5"
      },
      "source": [
        "MNIST images are black and white thumbnail square images with 28x28 pixels.  Each pixel is assigned an intensity (originally on a scale of 0 to 255).  To make the input useful to us, we need these to be arranged in a 1D vector using a consistent strategy, as is shown in the figure below.  We can use `Flatten` to accomplish this task.\n"
      ]
    },
    {
      "cell_type": "code",
      "execution_count": 15,
      "metadata": {
        "colab": {
          "base_uri": "https://localhost:8080/"
        },
        "id": "K_uOhLNlbiJ6",
        "outputId": "977e0545-956f-4649-8fa8-4a3427403378"
      },
      "outputs": [
        {
          "output_type": "stream",
          "name": "stdout",
          "text": [
            "(60000, 28, 28)\n",
            "(60000, 784)\n"
          ]
        }
      ],
      "source": [
        "# showing an example of the Flatten class and operation\n",
        "from tensorflow.keras.layers import Flatten\n",
        "flatten = Flatten(dtype='float32')\n",
        "\n",
        "\"original data shape\"\n",
        "print(x_train.shape)\n",
        "\n",
        "\"flattened shape\"\n",
        "print(flatten(x_train).shape)"
      ]
    },
    {
      "cell_type": "markdown",
      "metadata": {
        "id": "7SwMbbOXbiJ6"
      },
      "source": [
        "<img src=\"https://cf-courses-data.s3.us.cloud-object-storage.appdomain.cloud/IBMDeveloperSkillsNetwork-DL0120EN-SkillsNetwork/labs/Week2/Flatten.png\" alt=\"HTML5 Icon\" style=\"width:350px\">x\">\n",
        "<div style=\"text-align:center\">Illustration of the Flatten operation </div>\n"
      ]
    },
    {
      "cell_type": "markdown",
      "metadata": {
        "id": "VSngvajsbiJ7"
      },
      "source": [
        "<h3>Assigning bias and weights to null tensors</h3>\n"
      ]
    },
    {
      "cell_type": "markdown",
      "metadata": {
        "id": "ZVd8qLetbiJ8"
      },
      "source": [
        "Now we are going to create the weights and biases, for this purpose they will be used as arrays filled with zeros. The values that we choose here can be critical, but we'll cover a better way on the second part, instead of this type of initialization.\n",
        "Since these values will be adjusted during the optimization process, we define them using  `tf.Variable`.\n",
        "\n",
        "NOTE:  `tf.Variable` creates adjustable variables that are in the global namespace, so any function that references these variables need not pass the varibles.  But they are globals, so exercise caution when naming!\n"
      ]
    },
    {
      "cell_type": "code",
      "execution_count": 16,
      "metadata": {
        "id": "DhqUdBtUbiJ8"
      },
      "outputs": [],
      "source": [
        "# Weight tensor\n",
        "W = tf.Variable(tf.zeros([784, 10], tf.float32))\n",
        "# Bias tensor\n",
        "b = tf.Variable(tf.zeros([10], tf.float32))"
      ]
    },
    {
      "cell_type": "markdown",
      "metadata": {
        "id": "kqha226jbiJ9"
      },
      "source": [
        "<h3>Adding Weights and Biases to input</h3>\n"
      ]
    },
    {
      "cell_type": "markdown",
      "metadata": {
        "id": "F_LEvKTAbiJ-"
      },
      "source": [
        "The only difference for our next operation to the picture below is that we are using the mathematical convention for what is being executed in the illustration. The tf.matmul operation performs a matrix multiplication between x (inputs) and W (weights) and after the code add biases.\n"
      ]
    },
    {
      "cell_type": "markdown",
      "metadata": {
        "id": "fimiKBwbbiJ-"
      },
      "source": [
        "\n",
        "<img src=\"https://ibm.box.com/shared/static/88ksiymk1xkb10rgk0jwr3jw814jbfxo.png\" alt=\"HTML5 Icon\" style=\"width:350px\">\n",
        "<div style=\"text-align:center\">Illustration showing how weights and biases are added to neurons/nodes. </div>\n"
      ]
    },
    {
      "cell_type": "code",
      "execution_count": 17,
      "metadata": {
        "id": "H2PvT3vBbiJ_"
      },
      "outputs": [],
      "source": [
        "def forward(x):\n",
        "    return tf.matmul(x,W) + b"
      ]
    },
    {
      "cell_type": "markdown",
      "metadata": {
        "id": "mZyWqOcLbiJ_"
      },
      "source": [
        "<h3>Softmax Regression</h3>\n"
      ]
    },
    {
      "cell_type": "markdown",
      "metadata": {
        "id": "sjhInzqabiKB"
      },
      "source": [
        "Softmax is an activation function that is normally used in classification problems. It generates the probabilities for the output. For example, our model will not be 100% sure that one digit is the number nine, instead, the answer will be a distribution of probabilities where, if the model is right, the nine number will have a larger probability than the other other digits.\n",
        "\n",
        "For comparison, below is the one-hot vector for a nine digit label:\n"
      ]
    },
    {
      "cell_type": "raw",
      "metadata": {
        "id": "PbGgnD7zbiKD"
      },
      "source": [
        "0 --> 0\n",
        "1 --> 0\n",
        "2 --> 0\n",
        "3 --> 0\n",
        "4 --> 0\n",
        "5 --> 0\n",
        "6 --> 0\n",
        "7 --> 0\n",
        "8 --> 0\n",
        "9 --> 1"
      ]
    },
    {
      "cell_type": "markdown",
      "metadata": {
        "id": "DTPaOcjtbiKD"
      },
      "source": [
        "A machine does not have all this certainty, so we want to know what is the best guess, but we also want to understand how sure it was and what was the second better option. Below is an example of a hypothetical distribution for a nine digit:\n"
      ]
    },
    {
      "cell_type": "raw",
      "metadata": {
        "id": "p7gr7pbfbiKE"
      },
      "source": [
        "0 -->0.01\n",
        "1 -->0.02\n",
        "2 -->0.03\n",
        "3 -->0.02\n",
        "4 -->0.12\n",
        "5 -->0.01\n",
        "6 -->0.03\n",
        "7 -->0.06\n",
        "8 -->0.1\n",
        "9 -->0.6"
      ]
    },
    {
      "cell_type": "markdown",
      "metadata": {
        "id": "8ce0emcebiKE"
      },
      "source": [
        "Softmax is simply an exponential of each value of a vector that is also normalized.  The formula is:\n",
        "\n",
        "$$\\sigma(z_i) = \\frac{e^{z_i}}{\\sum{e^{z_i}}}$$\n"
      ]
    },
    {
      "cell_type": "code",
      "execution_count": 18,
      "metadata": {
        "colab": {
          "base_uri": "https://localhost:8080/"
        },
        "id": "wEsNPC9dbiKF",
        "outputId": "9bd035d7-0fb8-4dbe-ff1b-a0d4da671fcf"
      },
      "outputs": [
        {
          "output_type": "stream",
          "name": "stdout",
          "text": [
            "softmax calculation\n",
            "[8.8075405e-01 4.8839214e-05 1.1919710e-01]\n",
            "verifying normalization\n",
            "tf.Tensor(1.0, shape=(), dtype=float32)\n",
            "finding vector with largest value (label assignment)\n",
            "category 0\n"
          ]
        }
      ],
      "source": [
        "# a sample softmax calculation on an input vector\n",
        "vector = [10, 0.2, 8]\n",
        "softmax = tf.nn.softmax(vector)\n",
        "print(\"softmax calculation\")\n",
        "print(softmax.numpy())\n",
        "print(\"verifying normalization\")\n",
        "print(tf.reduce_sum(softmax))\n",
        "print(\"finding vector with largest value (label assignment)\")\n",
        "print(\"category\", tf.argmax(softmax).numpy())"
      ]
    },
    {
      "cell_type": "code",
      "source": [
        "tf.argmax(softmax).numpy()"
      ],
      "metadata": {
        "colab": {
          "base_uri": "https://localhost:8080/"
        },
        "id": "5xnNaMb4e2df",
        "outputId": "f54bb91f-3f95-4af6-ef8e-846285b12454"
      },
      "execution_count": 22,
      "outputs": [
        {
          "output_type": "execute_result",
          "data": {
            "text/plain": [
              "0"
            ]
          },
          "metadata": {},
          "execution_count": 22
        }
      ]
    },
    {
      "cell_type": "markdown",
      "metadata": {
        "id": "LEyrl9tUbiKG"
      },
      "source": [
        "Now we can define our output layer\n"
      ]
    },
    {
      "cell_type": "code",
      "execution_count": 23,
      "metadata": {
        "id": "b6j3J-PQbiKG"
      },
      "outputs": [],
      "source": [
        "def activate(x):\n",
        "    return tf.nn.softmax(forward(x))"
      ]
    },
    {
      "cell_type": "markdown",
      "metadata": {
        "id": "Bbe1PYj4biKH"
      },
      "source": [
        "Logistic function output is used for the classification between two target classes 0/1. Softmax function is generalized type of logistic function. That is, Softmax can output a multiclass categorical probability distribution.\n"
      ]
    },
    {
      "cell_type": "markdown",
      "metadata": {
        "id": "4ft_s6BNbiKI"
      },
      "source": [
        "Let's create a `model` function for convenience.\n"
      ]
    },
    {
      "cell_type": "code",
      "execution_count": 24,
      "metadata": {
        "id": "pPHN9JPAbiKI"
      },
      "outputs": [],
      "source": [
        "def model(x):\n",
        "    x = flatten(x)\n",
        "    return activate(x)"
      ]
    },
    {
      "cell_type": "markdown",
      "metadata": {
        "id": "JT2mU39lbiKN"
      },
      "source": [
        "<h3>Cost function</h3>\n"
      ]
    },
    {
      "cell_type": "markdown",
      "metadata": {
        "id": "DVnaQsb2biKO"
      },
      "source": [
        "It is a function that is used to minimize the difference between the right answers (labels) and estimated outputs by our Network. Here we use the cross entropy function, which is a popular cost function used for categorical models.  The function is defined in terms of probabilities, which is why we must used normalized vectors.  It is given as:\n",
        "\n",
        "$$ CrossEntropy = \\sum{y_{Label}\\cdot \\log(y_{Prediction})}$$\n"
      ]
    },
    {
      "cell_type": "code",
      "execution_count": 25,
      "metadata": {
        "colab": {
          "base_uri": "https://localhost:8080/"
        },
        "id": "ivbaFk7tbiKO",
        "outputId": "9d62b6a7-fe47-4625-a2e3-cf82f76caf6f"
      },
      "outputs": [
        {
          "output_type": "execute_result",
          "data": {
            "text/plain": [
              "138155.12"
            ]
          },
          "metadata": {},
          "execution_count": 25
        }
      ],
      "source": [
        "def cross_entropy(y_label, y_pred):\n",
        "    return (-tf.reduce_sum(y_label * tf.math.log(y_pred + 1.e-10)))\n",
        "# addition of 1e-10 to prevent errors in zero calculations\n",
        "\n",
        "# current loss function for unoptimized model\n",
        "cross_entropy(y_train, model(x_train)).numpy()"
      ]
    },
    {
      "cell_type": "markdown",
      "metadata": {
        "id": "E22tR93CbiKP"
      },
      "source": [
        "<h3>Type of optimization: Gradient Descent</h3>\n"
      ]
    },
    {
      "cell_type": "markdown",
      "metadata": {
        "id": "SxNMHi1KbiKP"
      },
      "source": [
        "This is the part where you configure the optimizer for your Neural Network. There are several optimizers available, in our case we will use Gradient Descent because it is a well established optimizer.\n"
      ]
    },
    {
      "cell_type": "code",
      "execution_count": 29,
      "metadata": {
        "id": "OmxX-uzqbiKQ"
      },
      "outputs": [],
      "source": [
        "optimizer = tf.keras.optimizers.SGD(learning_rate=0.25)\n"
      ]
    },
    {
      "cell_type": "markdown",
      "metadata": {
        "id": "dSt_sGbubiKQ"
      },
      "source": [
        "Now we define the training step.  This step uses `GradientTape` to automatically compute deriviatives of the functions we have manually created and applies them using the `SGD` optimizer.\n"
      ]
    },
    {
      "cell_type": "code",
      "execution_count": 30,
      "metadata": {
        "id": "kNjuahOsbiKR"
      },
      "outputs": [],
      "source": [
        "def train_step(x, y ):\n",
        "    with tf.GradientTape() as tape:\n",
        "        #compute loss function\n",
        "        current_loss = cross_entropy( y, model(x))\n",
        "        # compute gradient of loss\n",
        "        #(This is automatic! Even with specialized funcctions!)\n",
        "        grads = tape.gradient( current_loss , [W,b] )\n",
        "        # Apply SGD step to our Variables W and b\n",
        "        optimizer.apply_gradients( zip( grads , [W,b] ) )\n",
        "    return current_loss.numpy()"
      ]
    },
    {
      "cell_type": "markdown",
      "metadata": {
        "id": "w1V-hwMubiKR"
      },
      "source": [
        "<h3>Training batches</h3>\n"
      ]
    },
    {
      "cell_type": "markdown",
      "metadata": {
        "id": "bTwjESSObiKS"
      },
      "source": [
        "Train using minibatch Gradient Descent.\n",
        "\n",
        "In practice, Batch Gradient Descent is not often used because is too computationally expensive. The good part about this method is that you have the true gradient, but with the expensive computing task of using the whole dataset in one time. Due to this problem, Neural Networks usually use minibatch to train.\n",
        "\n",
        "We have already divided our full dataset into batches of 50 each using the Datasets API.  Now we can iterate through each of those batches to compute a gradient.  Once we iterate through all of the batches in the dataset, we complete an **epoch**, or a full traversal of the dataset.\n"
      ]
    },
    {
      "cell_type": "code",
      "execution_count": null,
      "metadata": {
        "id": "i7gMdRlObiKT"
      },
      "outputs": [],
      "source": [
        "# zeroing out weights in case you want to run this cell multiple times\n",
        "# Weight tensor\n",
        "W = tf.Variable(tf.zeros([784, 10],tf.float32))\n",
        "# Bias tensor\n",
        "b = tf.Variable(tf.zeros([10],tf.float32))\n",
        "\n",
        "loss_values=[]\n",
        "accuracies = []\n",
        "epochs = 10\n",
        "\n",
        "for i in range(epochs):\n",
        "    j=0\n",
        "    # each batch has 50 examples\n",
        "    for x_train_batch, y_train_batch in train_ds:\n",
        "        j+=1\n",
        "        current_loss = train_step(x_train_batch, y_train_batch)\n",
        "        if j%500==0: #reporting intermittent batch statistics\n",
        "            print(\"epoch \", str(i), \"batch\", str(j), \"loss:\", str(current_loss) )\n",
        "\n",
        "    # collecting statistics at each epoch...loss function and accuracy\n",
        "    #  loss function\n",
        "    current_loss = cross_entropy( y_train, model( x_train )).numpy()\n",
        "    loss_values.append(current_loss)\n",
        "    correct_prediction = tf.equal(tf.argmax(model(x_train), axis=1),\n",
        "                                  tf.argmax(y_train, axis=1))\n",
        "    #  accuracy\n",
        "    accuracy = tf.reduce_mean(tf.cast(correct_prediction, tf.float32)).numpy()\n",
        "    accuracies.append(accuracy)\n",
        "    print(\"end of epoch \", str(i), \"loss\", str(current_loss), \"accuracy\", str(accuracy) )\n"
      ]
    },
    {
      "cell_type": "markdown",
      "metadata": {
        "id": "8_hBPSUGbiKT"
      },
      "source": [
        "<h3>Test and Plots</h3>\n"
      ]
    },
    {
      "cell_type": "markdown",
      "metadata": {
        "id": "oP6SzMzWbiKU"
      },
      "source": [
        "It is common to run intermittent diagnostics (such as accuracy and loss over entire dataset) during training.  Here we compute a summary statistic on the test dataset as well.  Fitness metrics for the training data should closely match those of the test data.  If the test metrics are distinctly less favorable, this can be a sign of overfitting.\n"
      ]
    },
    {
      "cell_type": "code",
      "execution_count": 33,
      "metadata": {
        "colab": {
          "base_uri": "https://localhost:8080/"
        },
        "id": "-BEyXJ_KbiKU",
        "outputId": "a4b987d8-4d8c-48a0-8a97-d0015b82a044"
      },
      "outputs": [
        {
          "output_type": "stream",
          "name": "stdout",
          "text": [
            "training accuracy 0.8369\n",
            "test accuracy 0.8303\n"
          ]
        }
      ],
      "source": [
        "correct_prediction_train = tf.equal(tf.argmax(model(x_train), axis=1),tf.argmax(y_train,axis=1))\n",
        "accuracy_train = tf.reduce_mean(tf.cast(correct_prediction_train, tf.float32)).numpy()\n",
        "\n",
        "correct_prediction_test = tf.equal(tf.argmax(model(x_test), axis=1),tf.argmax(y_test, axis=1))\n",
        "accuracy_test = tf.reduce_mean(tf.cast(correct_prediction_test, tf.float32)).numpy()\n",
        "\n",
        "print(\"training accuracy\", accuracy_train)\n",
        "print(\"test accuracy\", accuracy_test)"
      ]
    },
    {
      "cell_type": "markdown",
      "metadata": {
        "id": "J_gA2e9pbiKV"
      },
      "source": [
        "<hr>\n"
      ]
    },
    {
      "cell_type": "markdown",
      "metadata": {
        "id": "dfDKUXf9biKV"
      },
      "source": [
        "The next two plots show the performance of the optimization at each epoch.\n"
      ]
    },
    {
      "cell_type": "code",
      "execution_count": 34,
      "metadata": {
        "colab": {
          "base_uri": "https://localhost:8080/",
          "height": 581
        },
        "id": "1yitZvSXbiKW",
        "outputId": "b4bb430d-2a3f-4ba5-b0ca-1a56e25c9170"
      },
      "outputs": [
        {
          "output_type": "execute_result",
          "data": {
            "text/plain": [
              "Text(0, 0.5, 'loss')"
            ]
          },
          "metadata": {},
          "execution_count": 34
        },
        {
          "output_type": "display_data",
          "data": {
            "text/plain": [
              "<Figure size 1000x600 with 1 Axes>"
            ],
            "image/png": "[encoded data removed]"
          },
          "metadata": {}
        }
      ],
      "source": [
        "import matplotlib.pyplot as plt\n",
        "%matplotlib inline\n",
        "plt.rcParams['figure.figsize'] = (10, 6)\n",
        "#print(loss_values)\n",
        "plt.plot(loss_values,'-ro')\n",
        "plt.title(\"loss per epoch\")\n",
        "plt.xlabel(\"epoch\")\n",
        "plt.ylabel(\"loss\")"
      ]
    },
    {
      "cell_type": "code",
      "execution_count": null,
      "metadata": {
        "id": "X64m9RWlbiKW"
      },
      "outputs": [],
      "source": [
        "plt.plot(accuracies,'-ro')\n",
        "plt.title(\"accuracy per epoch\")\n",
        "plt.xlabel(\"epoch\")\n",
        "plt.ylabel(\"accuracy\")"
      ]
    },
    {
      "cell_type": "markdown",
      "metadata": {
        "id": "hUwv1ibybiKX"
      },
      "source": [
        "<a id=\"ref4\"></a>\n",
        "<h2>Evaluating the final result</h2>\n"
      ]
    },
    {
      "cell_type": "markdown",
      "metadata": {
        "id": "Zn0-W3XAbiKX"
      },
      "source": [
        "84% accuracy is not bad considering the simplicity of the model, but >90% accuracy has been achieved in the past.  \n"
      ]
    },
    {
      "cell_type": "markdown",
      "metadata": {
        "id": "t4g6s2qtbiKY"
      },
      "source": [
        "<a id=\"ref5\"></a>\n",
        "<h2>How to improve our model?</h2>\n"
      ]
    },
    {
      "cell_type": "markdown",
      "metadata": {
        "id": "N0717JPGbiKY"
      },
      "source": [
        "<h4>Several options as follow:</h4>\n",
        "<ul>\n",
        "    <li>Regularization of Neural Networks using DropConnect</li>\n",
        "    <li>Multi-column Deep Neural Networks for Image Classification</li>\n",
        "    <li>APAC: Augmented Pattern Classification with Neural Networks</li>\n",
        "    <li>Simple Deep Neural Network with Dropout</li>\n",
        "</ul>\n",
        "<h4>In the next part we are going to explore the option:</h4>\n",
        "<ul>\n",
        "    <li>Simple Deep Neural Network with Dropout (more than 1 hidden layer)</li>\n",
        "</ul>\n"
      ]
    },
    {
      "cell_type": "markdown",
      "metadata": {
        "id": "-z3OPZygbiKZ"
      },
      "source": [
        "<hr>\n"
      ]
    },
    {
      "cell_type": "markdown",
      "metadata": {
        "id": "yxq9hmekbiKZ"
      },
      "source": [
        "<a id=\"ref6\"></a>\n",
        "<h2>2nd part: Deep Learning applied on MNIST</h2>\n"
      ]
    },
    {
      "cell_type": "markdown",
      "metadata": {
        "id": "6RNegqA_biKZ"
      },
      "source": [
        "In the first part, we learned how to use a simple ANN to classify MNIST. Now we are going to expand our knowledge using a Deep Neural Network.\n",
        "\n",
        "\n",
        "Architecture of our network is:\n",
        "    \n",
        "- (Input) -> [batch_size, 28, 28, 1]  >> Apply 32 filter of [5x5]\n",
        "- (Convolutional layer 1)  -> [batch_size, 28, 28, 32]\n",
        "- (ReLU 1)  -> [?, 28, 28, 32]\n",
        "- (Max pooling 1) -> [?, 14, 14, 32]\n",
        "- (Convolutional layer 2)  -> [?, 14, 14, 64]\n",
        "- (ReLU 2)  -> [?, 14, 14, 64]\n",
        "- (Max pooling 2)  -> [?, 7, 7, 64]\n",
        "- [fully connected layer 3] -> [1x1024]\n",
        "- [ReLU 3]  -> [1x1024]\n",
        "- [Drop out]  -> [1x1024]\n",
        "- [fully connected layer 4] -> [1x10]\n",
        "\n",
        "\n",
        "The next cells will explore this new architecture.\n"
      ]
    },
    {
      "cell_type": "markdown",
      "metadata": {
        "id": "Nx2AvbzcbiKa"
      },
      "source": [
        "<h3>The MNIST data</h3>\n"
      ]
    },
    {
      "cell_type": "markdown",
      "metadata": {
        "id": "Ezqi-OXebiKa"
      },
      "source": [
        "The MNIST Dataset will be used from the above example.\n"
      ]
    },
    {
      "cell_type": "markdown",
      "metadata": {
        "id": "cgmsDybSbiKb"
      },
      "source": [
        "<h3>Initial parameters</h3>\n"
      ]
    },
    {
      "cell_type": "markdown",
      "metadata": {
        "id": "KCfAqjSNbiKb"
      },
      "source": [
        "Create general parameters for the model\n"
      ]
    },
    {
      "cell_type": "code",
      "execution_count": 35,
      "metadata": {
        "id": "vNiIhnMPbiKd"
      },
      "outputs": [],
      "source": [
        "width = 28 # width of the image in pixels\n",
        "height = 28 # height of the image in pixels\n",
        "flat = width * height # number of pixels in one image\n",
        "class_output = 10 # number of possible classifications for the problem"
      ]
    },
    {
      "cell_type": "markdown",
      "metadata": {
        "id": "AvAi_jkrbiKf"
      },
      "source": [
        "<h4>Converting images of the data set to tensors</h4>\n"
      ]
    },
    {
      "cell_type": "markdown",
      "metadata": {
        "id": "BaqOGxlubiKg"
      },
      "source": [
        "The input image is 28 pixels by 28 pixels, 1 channel (grayscale). In this case, the first dimension is the <b>batch number</b> of the image, and can be of any size (so we set it to -1). The second and third dimensions are width and height, and the last one is the image channels.\n"
      ]
    },
    {
      "cell_type": "code",
      "execution_count": 36,
      "metadata": {
        "id": "fpNOXCi5biKh"
      },
      "outputs": [],
      "source": [
        "x_image_train = tf.reshape(x_train, [-1,28,28,1])\n",
        "x_image_train = tf.cast(x_image_train, 'float32')\n",
        "\n",
        "x_image_test = tf.reshape(x_test, [-1,28,28,1])\n",
        "x_image_test = tf.cast(x_image_test, 'float32')\n",
        "\n",
        "#creating new dataset with reshaped inputs\n",
        "train_ds2 = tf.data.Dataset.from_tensor_slices((x_image_train, y_train)).batch(50)\n",
        "test_ds2 = tf.data.Dataset.from_tensor_slices((x_image_test, y_test)).batch(50)"
      ]
    },
    {
      "cell_type": "markdown",
      "metadata": {
        "id": "F5Euqp7xbiKh"
      },
      "source": [
        "Reducing data set size from this point on because the Skills Netowrk Labs only provides 4 GB of main memory but 8 are needed otherwise. If you want to run faster (in multiple CPU or GPU) and on the whole data set consider using IBM Watson Studio. You get 100 hours of free usage every month. https://github.com/IBM/skillsnetwork/wiki/Watson-Studio-Setup\n"
      ]
    },
    {
      "cell_type": "code",
      "execution_count": 37,
      "metadata": {
        "id": "_aug2pVzbiKi"
      },
      "outputs": [],
      "source": [
        "x_image_train = tf.slice(x_image_train,[0,0,0,0],[10000, 28, 28, 1])\n",
        "y_train = tf.slice(y_train,[0,0],[10000, 10])"
      ]
    },
    {
      "cell_type": "markdown",
      "metadata": {
        "id": "qt_Emc0abiKi"
      },
      "source": [
        "<h3>Convolutional Layer 1</h3>\n"
      ]
    },
    {
      "cell_type": "markdown",
      "metadata": {
        "id": "xsa0VefwbiKj"
      },
      "source": [
        "<h4>Defining kernel weight and bias</h4>\n",
        "We define a kernel here. The Size of the filter/kernel is 5x5;  Input channels is 1 (grayscale);  and we need 32 different feature maps (here, 32 feature maps means 32 different filters are applied on each image. So, the output of convolution layer would be 28x28x32). In this step, we create a filter / kernel tensor of shape <code>[filter_height, filter_width, in_channels, out_channels]</code>\n"
      ]
    },
    {
      "cell_type": "code",
      "execution_count": 38,
      "metadata": {
        "id": "1T4H6_0vbiKj"
      },
      "outputs": [],
      "source": [
        "W_conv1 = tf.Variable(tf.random.truncated_normal([5, 5, 1, 32], stddev=0.1, seed=0))\n",
        "b_conv1 = tf.Variable(tf.constant(0.1, shape=[32])) # need 32 biases for 32 outputs"
      ]
    },
    {
      "cell_type": "markdown",
      "metadata": {
        "id": "UHTpsu7DbiKj"
      },
      "source": [
        "<img src=\"https://ibm.box.com/shared/static/vn26neef1nnv2oxn5cb3uueowcawhkgb.png\" style=\"width: 800px; height: 400px;\" alt=\"HTML5 Icon\">\n",
        "\n",
        "</h4>Convolve with weight tensor and add biases.</h4>\n",
        "\n",
        "To create convolutional layer, we use <b>tf.nn.conv2d</b>. It computes a 2-D convolution given 4-D input and filter tensors.\n",
        "\n",
        "Inputs:\n",
        "- tensor of shape [batch, in_height, in_width, in_channels]. x of shape [batch_size,28 ,28, 1]\n",
        "- a filter / kernel tensor of shape [filter_height, filter_width, in_channels, out_channels]. W is of size [5, 5, 1, 32]\n",
        "- stride which is  [1, 1, 1, 1]. The convolutional layer, slides the \"kernel window\" across the input tensor. As the input tensor has 4 dimensions:  [batch, height, width, channels], then the convolution operates on a 2D window on the height and width dimensions. __strides__ determines how much the window shifts by in each of the dimensions. As the first and last dimensions are related to batch and channels, we set the stride to 1. But for second and third dimension, we could set other values, e.g. [1, 2, 2, 1]\n",
        "    \n",
        "    \n",
        "Process:\n",
        "- Change the filter to a 2-D matrix with shape [5\\*5\\*1,32]\n",
        "- Extracts image patches from the input tensor to form a *virtual* tensor of shape `[batch, 28, 28, 5*5*1]`.\n",
        "- For each batch, right-multiplies the filter matrix and the image vector.\n",
        "\n",
        "Output:\n",
        "- A `Tensor` (a 2-D convolution) of size tf.Tensor 'add_7:0' shape=(?, 28, 28, 32)- Notice: the output of the first convolution layer is 32 [28x28] images. Here 32 is considered as volume/depth of the output image.\n"
      ]
    },
    {
      "cell_type": "code",
      "execution_count": 39,
      "metadata": {
        "id": "iLdkNIlEbiKk"
      },
      "outputs": [],
      "source": [
        "def convolve1(x):\n",
        "    return(\n",
        "        tf.nn.conv2d(x, W_conv1, strides=[1, 1, 1, 1], padding='SAME') + b_conv1)"
      ]
    },
    {
      "cell_type": "markdown",
      "metadata": {
        "id": "hbr58HjLbiKk"
      },
      "source": [
        "<img src=\"https://ibm.box.com/shared/static/iizf4ui4b2hh9wn86pplqxu27ykpqci9.png\" style=\"width: 800px; height: 400px;\" alt=\"HTML5 Icon\">\n"
      ]
    },
    {
      "cell_type": "markdown",
      "metadata": {
        "id": "YaH7M9CObiKl"
      },
      "source": [
        "<h4>Apply the ReLU activation Function</h4>\n"
      ]
    },
    {
      "cell_type": "markdown",
      "metadata": {
        "id": "ycEBPSpjbiKl"
      },
      "source": [
        "In this step, we just go through all outputs convolution layer, <b>convolve1</b>, and wherever a negative number occurs, we swap it out for a 0. It is called ReLU activation Function.<br> Let f(x) is a ReLU activation function $f(x) = max(0,x)$.\n"
      ]
    },
    {
      "cell_type": "code",
      "execution_count": 40,
      "metadata": {
        "id": "OaSSLGPgbiKm"
      },
      "outputs": [],
      "source": [
        "def h_conv1(x): return(tf.nn.relu(convolve1(x)))"
      ]
    },
    {
      "cell_type": "markdown",
      "metadata": {
        "id": "Rtr8wZDibiKn"
      },
      "source": [
        "<h4>Apply the max pooling</h4>\n"
      ]
    },
    {
      "cell_type": "markdown",
      "metadata": {
        "id": "AWG9OBlObiKp"
      },
      "source": [
        "<b>max pooling</b> is a form of non-linear down-sampling. It partitions the input image into a set of rectangles and, and then find the maximum value for that region.\n",
        "\n",
        "Lets use <b>tf.nn.max_pool</b> function to perform max pooling.\n",
        "<b>Kernel size:</b> 2x2 (if the window is a 2x2 matrix, it would result in one output pixel)  \n",
        "<b>Strides:</b> dictates the sliding behaviour of the kernel. In this case it will move 2 pixels everytime, thus not overlapping. The input is a matrix of size 28x28x32, and the output would be a matrix of size 14x14x32.\n",
        "\n",
        "<img src=\"https://ibm.box.com/shared/static/kmaja90mn3aud9mro9cn8pbbg1h5pejy.png\" alt=\"HTML5 Icon\" style=\"width: 800px; height: 400px;\">\n",
        "\n"
      ]
    },
    {
      "cell_type": "code",
      "execution_count": 41,
      "metadata": {
        "id": "hcGjT8IjbiKq"
      },
      "outputs": [],
      "source": [
        "def conv1(x):\n",
        "    return tf.nn.max_pool(h_conv1(x), ksize=[1, 2, 2, 1],\n",
        "                          strides=[1, 2, 2, 1], padding='SAME')"
      ]
    },
    {
      "cell_type": "markdown",
      "metadata": {
        "id": "ExGlo_SAbiKr"
      },
      "source": [
        "First layer completed\n"
      ]
    },
    {
      "cell_type": "markdown",
      "metadata": {
        "id": "kNOhZ_LibiKr"
      },
      "source": [
        "<h3>Convolutional Layer 2</h3>\n",
        "<h4>Weights and Biases of kernels</h4>\n"
      ]
    },
    {
      "cell_type": "markdown",
      "metadata": {
        "id": "G9-oylYWbiKs"
      },
      "source": [
        "We apply the convolution again in this layer. Lets look at the second layer kernel:  \n",
        "- Filter/kernel: 5x5 (25 pixels)\n",
        "- Input channels: 32 (from the 1st Conv layer, we had 32 feature maps)\n",
        "- 64 output feature maps  \n",
        "\n",
        "<b>Notice:</b> here, the input image is [14x14x32], the filter is [5x5x32], we use 64 filters of size [5x5x32], and the output of the convolutional layer would be 64 convolved image, [14x14x64].\n",
        "\n",
        "<b>Notice:</b> the convolution result of applying a filter of size [5x5x32] on image of size [14x14x32] is an image of size [14x14x1], that is, the convolution is functioning on volume.\n"
      ]
    },
    {
      "cell_type": "code",
      "execution_count": 42,
      "metadata": {
        "id": "i4e5KwabbiKs"
      },
      "outputs": [],
      "source": [
        "W_conv2 = tf.Variable(tf.random.truncated_normal([5, 5, 32, 64], stddev=0.1, seed=1))\n",
        "b_conv2 = tf.Variable(tf.constant(0.1, shape=[64])) #need 64 biases for 64 outputs"
      ]
    },
    {
      "cell_type": "markdown",
      "metadata": {
        "id": "xXUVV8uobiKt"
      },
      "source": [
        "<h4>Convolve image with weight tensor and add biases.</h4>\n"
      ]
    },
    {
      "cell_type": "code",
      "execution_count": 43,
      "metadata": {
        "id": "nkK6qVShbiKu"
      },
      "outputs": [],
      "source": [
        "def convolve2(x):\n",
        "    return(\n",
        "    tf.nn.conv2d(conv1(x), W_conv2, strides=[1, 1, 1, 1], padding='SAME') + b_conv2)"
      ]
    },
    {
      "cell_type": "markdown",
      "metadata": {
        "id": "kDQOwXF9biKu"
      },
      "source": [
        "<h4>Apply the ReLU activation Function</h4>\n"
      ]
    },
    {
      "cell_type": "code",
      "execution_count": 44,
      "metadata": {
        "id": "n7ATkvuYbiKv"
      },
      "outputs": [],
      "source": [
        "def h_conv2(x):  return tf.nn.relu(convolve2(x))"
      ]
    },
    {
      "cell_type": "markdown",
      "metadata": {
        "id": "GW1SAldgbiKw"
      },
      "source": [
        "<h4>Apply the max pooling</h4>\n"
      ]
    },
    {
      "cell_type": "code",
      "execution_count": 45,
      "metadata": {
        "id": "s8K251_0biKw"
      },
      "outputs": [],
      "source": [
        "def conv2(x):\n",
        "    return(\n",
        "    tf.nn.max_pool(h_conv2(x), ksize=[1, 2, 2, 1], strides=[1, 2, 2, 1], padding='SAME'))"
      ]
    },
    {
      "cell_type": "markdown",
      "metadata": {
        "id": "wINRfYADbiKx"
      },
      "source": [
        "Second layer completed. So, what is the output of the second layer, layer2?\n",
        "- it is 64 matrix of [7x7]\n"
      ]
    },
    {
      "cell_type": "markdown",
      "metadata": {
        "id": "hxstVytCbiKx"
      },
      "source": [
        "<h3>Fully Connected Layer</h3>\n"
      ]
    },
    {
      "cell_type": "markdown",
      "metadata": {
        "id": "evQOWPA5biKy"
      },
      "source": [
        "You need a fully connected layer to use the Softmax and create the probabilities in the end. Fully connected layers take the high-level filtered images from previous layer, that is all 64 matrices, and convert them to a flat array.\n",
        "\n",
        "So, each matrix [7x7] will be converted to a matrix of [49x1], and then all of the 64 matrix will be connected, which make an array of size [3136x1]. We will connect it into another layer of size [1024x1]. So, the weight between these 2 layers will be [3136x1024]\n",
        "\n",
        "\n",
        "<img src=\"https://ibm.box.com/shared/static/pr9mnirmlrzm2bitf1d4jj389hyvv7ey.png\" alt=\"HTML5 Icon\" style=\"width: 800px; height: 400px;\">\n"
      ]
    },
    {
      "cell_type": "markdown",
      "metadata": {
        "id": "6S9U3PHmbiKy"
      },
      "source": [
        "<h4>Flattening Second Layer</h4>\n"
      ]
    },
    {
      "cell_type": "code",
      "execution_count": 63,
      "metadata": {
        "id": "wAz_R_8CbiKy"
      },
      "outputs": [],
      "source": [
        "def layer2_matrix(x): return tf.reshape(conv2(x), [-1, 7 * 7 * 64])"
      ]
    },
    {
      "cell_type": "markdown",
      "metadata": {
        "id": "RgE7ktCybiKz"
      },
      "source": [
        "<h4>Weights and Biases between layer 2 and 3</h4>\n"
      ]
    },
    {
      "cell_type": "markdown",
      "metadata": {
        "id": "QhNqsB8BbiKz"
      },
      "source": [
        "Composition of the feature map from the last layer (7x7) multiplied by the number of feature maps (64); 1027 outputs to Softmax layer\n"
      ]
    },
    {
      "cell_type": "code",
      "execution_count": 64,
      "metadata": {
        "id": "aY58g5Q6biK0"
      },
      "outputs": [],
      "source": [
        "W_fc1 = tf.Variable(tf.random.truncated_normal([7 * 7 * 64, 1024], stddev=0.1, seed = 2))\n",
        "b_fc1 = tf.Variable(tf.constant(0.1, shape=[1024])) # need 1024 biases for 1024 outputs"
      ]
    },
    {
      "cell_type": "markdown",
      "metadata": {
        "id": "stb7GnjMbiK0"
      },
      "source": [
        "<h4>Matrix Multiplication (applying weights and biases)</h4>\n"
      ]
    },
    {
      "cell_type": "code",
      "execution_count": 48,
      "metadata": {
        "id": "Y7k_bxDObiK1"
      },
      "outputs": [],
      "source": [
        "def fcl(x): return tf.matmul(layer2_matrix(x), W_fc1) + b_fc1"
      ]
    },
    {
      "cell_type": "markdown",
      "metadata": {
        "id": "5kDTVqUbbiK1"
      },
      "source": [
        "<h4>Apply the ReLU activation Function</h4>\n"
      ]
    },
    {
      "cell_type": "code",
      "execution_count": 49,
      "metadata": {
        "id": "PRJc6F87biK2"
      },
      "outputs": [],
      "source": [
        "def h_fc1(x): return tf.nn.relu(fcl(x))"
      ]
    },
    {
      "cell_type": "markdown",
      "metadata": {
        "id": "X-BLCkS0biK2"
      },
      "source": [
        "Third layer completed\n"
      ]
    },
    {
      "cell_type": "markdown",
      "metadata": {
        "id": "D8pzxP9obiK2"
      },
      "source": [
        "<h4>Dropout Layer, Optional phase for reducing overfitting</h4>\n"
      ]
    },
    {
      "cell_type": "markdown",
      "metadata": {
        "id": "y6oKdyfwbiK3"
      },
      "source": [
        "It is a phase where the network \"forget\" some features. At each training step in a mini-batch, some units get switched off randomly so that it will not interact with the network. That is, it weights cannot be updated, nor affect the learning of the other network nodes.  This can be very useful for very large neural networks to prevent overfitting.\n"
      ]
    },
    {
      "cell_type": "code",
      "execution_count": 50,
      "metadata": {
        "id": "W4fbKUIObiK3"
      },
      "outputs": [],
      "source": [
        "keep_prob=0.5\n",
        "def layer_drop(x): return tf.nn.dropout(h_fc1(x), keep_prob)"
      ]
    },
    {
      "cell_type": "markdown",
      "metadata": {
        "id": "YNr3qZ97biK4"
      },
      "source": [
        "<h4>Readout Layer (Softmax Layer)</h4>\n"
      ]
    },
    {
      "cell_type": "markdown",
      "metadata": {
        "id": "Gz870lxZbiK4"
      },
      "source": [
        "Type: Softmax, Fully Connected Layer.\n"
      ]
    },
    {
      "cell_type": "markdown",
      "metadata": {
        "id": "qectiFlMbiK4"
      },
      "source": [
        "<h4>Weights and Biases</h4>\n"
      ]
    },
    {
      "cell_type": "markdown",
      "metadata": {
        "id": "QJRZ0aPkbiK5"
      },
      "source": [
        "In last layer, CNN takes the high-level filtered images and translate them into votes using softmax.\n",
        "Input channels: 1024 (neurons from the 3rd Layer); 10 output features\n"
      ]
    },
    {
      "cell_type": "code",
      "execution_count": 51,
      "metadata": {
        "id": "mp8fcXuJbiK5"
      },
      "outputs": [],
      "source": [
        "W_fc2 = tf.Variable(tf.random.truncated_normal([1024, 10], stddev=0.1, seed = 2)) #1024 neurons\n",
        "b_fc2 = tf.Variable(tf.constant(0.1, shape=[10])) # 10 possibilities for digits [0,1,2,3,4,5,6,7,8,9]"
      ]
    },
    {
      "cell_type": "markdown",
      "metadata": {
        "id": "79i101wPbiK6"
      },
      "source": [
        "<h4>Matrix Multiplication (applying weights and biases)</h4>\n"
      ]
    },
    {
      "cell_type": "code",
      "execution_count": 52,
      "metadata": {
        "id": "mmtJWcPBbiK6"
      },
      "outputs": [],
      "source": [
        "def fc(x): return tf.matmul(layer_drop(x), W_fc2) + b_fc2"
      ]
    },
    {
      "cell_type": "markdown",
      "metadata": {
        "id": "zkcP9S1LbiK7"
      },
      "source": [
        "<h4>Apply the Softmax activation Function</h4>\n",
        "<b>softmax</b> allows us to interpret the outputs of <b>fcl4</b> as probabilities. So, <b>y_conv</b> is a tensor of probabilities.\n"
      ]
    },
    {
      "cell_type": "code",
      "execution_count": 53,
      "metadata": {
        "id": "5h9eakombiK7"
      },
      "outputs": [],
      "source": [
        "def y_CNN(x): return tf.nn.softmax(fc(x))"
      ]
    },
    {
      "cell_type": "markdown",
      "metadata": {
        "id": "Ooqkp1psbiK7"
      },
      "source": [
        "---\n"
      ]
    },
    {
      "cell_type": "markdown",
      "metadata": {
        "id": "dbC2cdu2biK8"
      },
      "source": [
        "<a id=\"ref7\"></a>\n",
        "<h2>Summary of the Deep Convolutional Neural Network</h2>\n"
      ]
    },
    {
      "cell_type": "markdown",
      "metadata": {
        "id": "bg4iiLkmbiK8"
      },
      "source": [
        "Now is time to remember the structure of  our network\n"
      ]
    },
    {
      "cell_type": "markdown",
      "metadata": {
        "id": "o2RSjkXJbiK_"
      },
      "source": [
        "#### 0) Input - MNIST dataset\n",
        "#### 1) Convolutional and Max-Pooling\n",
        "#### 2) Convolutional and Max-Pooling\n",
        "#### 3) Fully Connected Layer\n",
        "#### 4) Processing - Dropout\n",
        "#### 5) Readout layer - Fully Connected\n",
        "#### 6) Outputs - Classified digits\n"
      ]
    },
    {
      "cell_type": "markdown",
      "metadata": {
        "id": "YQBAszRebiLB"
      },
      "source": [
        "---\n"
      ]
    },
    {
      "cell_type": "markdown",
      "metadata": {
        "id": "ZiG5RMEBbiLC"
      },
      "source": [
        "<a id=\"ref8\"></a>\n",
        "<h2>Define functions and train the model</h2>\n"
      ]
    },
    {
      "cell_type": "markdown",
      "metadata": {
        "id": "EE2SPIdFbiLC"
      },
      "source": [
        "<h4>Define the loss function</h4>\n",
        "\n",
        "We need to compare our output, layer4 tensor, with ground truth for all mini_batch. we can use <b>cross entropy>/b> to see how bad our CNN is working - to measure the error at a softmax layer.\n",
        "\n",
        "The following code shows an toy sample of cross-entropy for a mini-batch of size 2 which its items have been classified. You can run it (first change the cell type to <b>code</b> in the toolbar) to see how cross entropy changes.\n"
      ]
    },
    {
      "cell_type": "raw",
      "metadata": {
        "id": "yvJ0tg4-biLD"
      },
      "source": [
        "import numpy as np\n",
        "layer4_test =[[0.9, 0.1, 0.1],[0.9, 0.1, 0.1]]\n",
        "y_test=[[1.0, 0.0, 0.0],[1.0, 0.0, 0.0]]\n",
        "np.mean( -np.sum(y_test * np.log(layer4_test),1))"
      ]
    },
    {
      "cell_type": "markdown",
      "metadata": {
        "id": "6qegyICWbiLD"
      },
      "source": [
        "<b>reduce_sum</b> computes the sum of elements of <b>(y_ * tf.log(layer4)</b> across second dimension of the tensor, and <b>reduce_mean</b> computes the mean of all elements in the tensor..\n",
        "\n",
        "$$ CrossEntropy = \\sum{y_{Label}\\cdot \\log(y_{Prediction})}$$\n"
      ]
    },
    {
      "cell_type": "code",
      "execution_count": 54,
      "metadata": {
        "id": "OugA34yHbiLE"
      },
      "outputs": [],
      "source": [
        "def cross_entropy(y_label, y_pred):\n",
        "    return (-tf.reduce_sum(y_label * tf.math.log(y_pred + 1.e-10)))"
      ]
    },
    {
      "cell_type": "markdown",
      "metadata": {
        "id": "yT7cMYJGbiLE"
      },
      "source": [
        "<h4>Define the optimizer</h4>\n",
        "\n",
        "It is obvious that we want minimize the error of our network which is calculated by cross_entropy metric. To solve the problem, we have to compute gradients for the loss (which is minimizing the cross-entropy) and apply gradients to variables. It will be done by an optimizer: GradientDescent or Adagrad.\n"
      ]
    },
    {
      "cell_type": "code",
      "execution_count": 55,
      "metadata": {
        "id": "laS9cM-WbiLF"
      },
      "outputs": [],
      "source": [
        "optimizer = tf.keras.optimizers.Adam(1e-4)"
      ]
    },
    {
      "cell_type": "markdown",
      "metadata": {
        "id": "M04rB7l-biLF"
      },
      "source": [
        "Following the convention of our first example, we will use `GradientTape` to define a model.\n"
      ]
    },
    {
      "cell_type": "code",
      "execution_count": 56,
      "metadata": {
        "id": "58pE3DO9biLG"
      },
      "outputs": [],
      "source": [
        "variables = [W_conv1, b_conv1, W_conv2, b_conv2,\n",
        "             W_fc1, b_fc1, W_fc2, b_fc2, ]\n",
        "\n",
        "def train_step(x, y):\n",
        "    with tf.GradientTape() as tape:\n",
        "        current_loss = cross_entropy( y, y_CNN( x ))\n",
        "        grads = tape.gradient( current_loss , variables )\n",
        "        optimizer.apply_gradients( zip( grads , variables ) )\n",
        "        return current_loss.numpy()\n"
      ]
    },
    {
      "cell_type": "code",
      "execution_count": 57,
      "metadata": {
        "colab": {
          "base_uri": "https://localhost:8080/",
          "height": 393
        },
        "id": "_gJ0MNAVbiLG",
        "outputId": "48ba2f64-2d6d-4a27-c66a-c51778d86bfe"
      },
      "outputs": [
        {
          "output_type": "error",
          "ename": "InvalidArgumentError",
          "evalue": "ignored",
          "traceback": [
            "\u001b[0;31m---------------------------------------------------------------------------\u001b[0m",
            "\u001b[0;31mInvalidArgumentError\u001b[0m                      Traceback (most recent call last)",
            "\u001b[0;32m<ipython-input-57-d5537c65cac2>\u001b[0m in \u001b[0;36m<cell line: 3>\u001b[0;34m()\u001b[0m\n\u001b[1;32m      2\u001b[0m \u001b[0mincrement\u001b[0m \u001b[0;34m=\u001b[0m \u001b[0;36m1000\u001b[0m\u001b[0;34m\u001b[0m\u001b[0;34m\u001b[0m\u001b[0m\n\u001b[1;32m      3\u001b[0m \u001b[0;32mfor\u001b[0m \u001b[0mstart\u001b[0m \u001b[0;32min\u001b[0m \u001b[0mrange\u001b[0m\u001b[0;34m(\u001b[0m\u001b[0;36m0\u001b[0m\u001b[0;34m,\u001b[0m\u001b[0;36m60000\u001b[0m\u001b[0;34m,\u001b[0m\u001b[0mincrement\u001b[0m\u001b[0;34m)\u001b[0m\u001b[0;34m:\u001b[0m\u001b[0;34m\u001b[0m\u001b[0;34m\u001b[0m\u001b[0m\n\u001b[0;32m----> 4\u001b[0;31m     \u001b[0ms\u001b[0m \u001b[0;34m=\u001b[0m \u001b[0mtf\u001b[0m\u001b[0;34m.\u001b[0m\u001b[0mslice\u001b[0m\u001b[0;34m(\u001b[0m\u001b[0mx_image_train\u001b[0m\u001b[0;34m,\u001b[0m\u001b[0;34m[\u001b[0m\u001b[0mstart\u001b[0m\u001b[0;34m,\u001b[0m\u001b[0;36m0\u001b[0m\u001b[0;34m,\u001b[0m\u001b[0;36m0\u001b[0m\u001b[0;34m,\u001b[0m\u001b[0;36m0\u001b[0m\u001b[0;34m]\u001b[0m\u001b[0;34m,\u001b[0m\u001b[0;34m[\u001b[0m\u001b[0mstart\u001b[0m\u001b[0;34m+\u001b[0m\u001b[0mincrement\u001b[0m\u001b[0;34m-\u001b[0m\u001b[0;36m1\u001b[0m\u001b[0;34m,\u001b[0m \u001b[0;36m28\u001b[0m\u001b[0;34m,\u001b[0m \u001b[0;36m28\u001b[0m\u001b[0;34m,\u001b[0m \u001b[0;36m1\u001b[0m\u001b[0;34m]\u001b[0m\u001b[0;34m)\u001b[0m\u001b[0;34m\u001b[0m\u001b[0;34m\u001b[0m\u001b[0m\n\u001b[0m\u001b[1;32m      5\u001b[0m     \u001b[0mt\u001b[0m \u001b[0;34m=\u001b[0m \u001b[0my_CNN\u001b[0m\u001b[0;34m(\u001b[0m\u001b[0ms\u001b[0m\u001b[0;34m)\u001b[0m\u001b[0;34m\u001b[0m\u001b[0;34m\u001b[0m\u001b[0m\n\u001b[1;32m      6\u001b[0m     \u001b[0;31m#results.append(t)\u001b[0m\u001b[0;34m\u001b[0m\u001b[0;34m\u001b[0m\u001b[0m\n",
            "\u001b[0;32m/usr/local/lib/python3.10/dist-packages/tensorflow/python/util/traceback_utils.py\u001b[0m in \u001b[0;36merror_handler\u001b[0;34m(*args, **kwargs)\u001b[0m\n\u001b[1;32m    151\u001b[0m     \u001b[0;32mexcept\u001b[0m \u001b[0mException\u001b[0m \u001b[0;32mas\u001b[0m \u001b[0me\u001b[0m\u001b[0;34m:\u001b[0m\u001b[0;34m\u001b[0m\u001b[0;34m\u001b[0m\u001b[0m\n\u001b[1;32m    152\u001b[0m       \u001b[0mfiltered_tb\u001b[0m \u001b[0;34m=\u001b[0m \u001b[0m_process_traceback_frames\u001b[0m\u001b[0;34m(\u001b[0m\u001b[0me\u001b[0m\u001b[0;34m.\u001b[0m\u001b[0m__traceback__\u001b[0m\u001b[0;34m)\u001b[0m\u001b[0;34m\u001b[0m\u001b[0;34m\u001b[0m\u001b[0m\n\u001b[0;32m--> 153\u001b[0;31m       \u001b[0;32mraise\u001b[0m \u001b[0me\u001b[0m\u001b[0;34m.\u001b[0m\u001b[0mwith_traceback\u001b[0m\u001b[0;34m(\u001b[0m\u001b[0mfiltered_tb\u001b[0m\u001b[0;34m)\u001b[0m \u001b[0;32mfrom\u001b[0m \u001b[0;32mNone\u001b[0m\u001b[0;34m\u001b[0m\u001b[0;34m\u001b[0m\u001b[0m\n\u001b[0m\u001b[1;32m    154\u001b[0m     \u001b[0;32mfinally\u001b[0m\u001b[0;34m:\u001b[0m\u001b[0;34m\u001b[0m\u001b[0;34m\u001b[0m\u001b[0m\n\u001b[1;32m    155\u001b[0m       \u001b[0;32mdel\u001b[0m \u001b[0mfiltered_tb\u001b[0m\u001b[0;34m\u001b[0m\u001b[0;34m\u001b[0m\u001b[0m\n",
            "\u001b[0;32m/usr/local/lib/python3.10/dist-packages/tensorflow/python/eager/execute.py\u001b[0m in \u001b[0;36mquick_execute\u001b[0;34m(op_name, num_outputs, inputs, attrs, ctx, name)\u001b[0m\n\u001b[1;32m     52\u001b[0m   \u001b[0;32mtry\u001b[0m\u001b[0;34m:\u001b[0m\u001b[0;34m\u001b[0m\u001b[0;34m\u001b[0m\u001b[0m\n\u001b[1;32m     53\u001b[0m     \u001b[0mctx\u001b[0m\u001b[0;34m.\u001b[0m\u001b[0mensure_initialized\u001b[0m\u001b[0;34m(\u001b[0m\u001b[0;34m)\u001b[0m\u001b[0;34m\u001b[0m\u001b[0;34m\u001b[0m\u001b[0m\n\u001b[0;32m---> 54\u001b[0;31m     tensors = pywrap_tfe.TFE_Py_Execute(ctx._handle, device_name, op_name,\n\u001b[0m\u001b[1;32m     55\u001b[0m                                         inputs, attrs, num_outputs)\n\u001b[1;32m     56\u001b[0m   \u001b[0;32mexcept\u001b[0m \u001b[0mcore\u001b[0m\u001b[0;34m.\u001b[0m\u001b[0m_NotOkStatusException\u001b[0m \u001b[0;32mas\u001b[0m \u001b[0me\u001b[0m\u001b[0;34m:\u001b[0m\u001b[0;34m\u001b[0m\u001b[0;34m\u001b[0m\u001b[0m\n",
            "\u001b[0;31mInvalidArgumentError\u001b[0m: Expected size[0] in [0, 5000], but got 5999 [Op:Slice]"
          ]
        }
      ],
      "source": [
        "results = []\n",
        "increment = 1000\n",
        "for start in range(0,60000,increment):\n",
        "    s = tf.slice(x_image_train,[start,0,0,0],[start+increment-1, 28, 28, 1])\n",
        "    t = y_CNN(s)\n",
        "    #results.append(t)\n"
      ]
    },
    {
      "cell_type": "markdown",
      "metadata": {
        "id": "VPGt07l5biLG"
      },
      "source": [
        "<h4>Define prediction</h4>\n",
        "Do you want to know how many of the cases in a mini-batch has been classified correctly? lets count them.\n"
      ]
    },
    {
      "cell_type": "code",
      "execution_count": 58,
      "metadata": {
        "id": "wGiOP5KsbiLH"
      },
      "outputs": [],
      "source": [
        "correct_prediction = tf.equal(tf.argmax(y_CNN(x_image_train), axis=1), tf.argmax(y_train, axis=1))"
      ]
    },
    {
      "cell_type": "markdown",
      "metadata": {
        "id": "ybrTn4wCbiLH"
      },
      "source": [
        "<h4>Define accuracy</h4>\n",
        "It makes more sense to report accuracy using average of correct cases.\n"
      ]
    },
    {
      "cell_type": "code",
      "execution_count": 60,
      "metadata": {
        "id": "qPZEFBxvbiLI"
      },
      "outputs": [],
      "source": [
        "accuracy = tf.reduce_mean(tf.cast(correct_prediction, 'float32'))"
      ]
    },
    {
      "cell_type": "markdown",
      "metadata": {
        "id": "lzVj1zk4biLI"
      },
      "source": [
        "<h4>Run session, train</h4>\n"
      ]
    },
    {
      "cell_type": "markdown",
      "metadata": {
        "id": "5TQmU08XbiLI"
      },
      "source": [
        "<i>If you want a fast result (<b>it might take sometime to train it</b>)</i>\n"
      ]
    },
    {
      "cell_type": "code",
      "execution_count": 61,
      "metadata": {
        "colab": {
          "base_uri": "https://localhost:8080/"
        },
        "id": "z6si8FDTbiLJ",
        "outputId": "d3db051f-0cd5-4ff3-c731-ecb955329570"
      },
      "outputs": [
        {
          "output_type": "stream",
          "name": "stdout",
          "text": [
            "epoch  0 batch 50 loss: 159.21216 accuracy 0.26\n",
            "epoch  0 batch 100 loss: 55.50106 accuracy 0.6\n",
            "epoch  0 batch 150 loss: 37.626305 accuracy 0.88\n",
            "epoch  0 batch 200 loss: 16.498632 accuracy 0.9\n",
            "epoch  0 batch 250 loss: 34.796066 accuracy 0.72\n",
            "epoch  0 batch 300 loss: 29.993374 accuracy 0.72\n",
            "epoch  0 batch 350 loss: 23.737669 accuracy 0.86\n",
            "epoch  0 batch 400 loss: 15.742135 accuracy 0.84\n",
            "epoch  0 batch 450 loss: 27.3389 accuracy 0.84\n",
            "epoch  0 batch 500 loss: 12.710821 accuracy 0.88\n",
            "epoch  0 batch 550 loss: 11.1663065 accuracy 0.92\n",
            "epoch  0 batch 600 loss: 17.619606 accuracy 0.86\n",
            "epoch  0 batch 650 loss: 13.855965 accuracy 0.88\n",
            "epoch  0 batch 700 loss: 8.1665325 accuracy 0.94\n",
            "epoch  0 batch 750 loss: 28.841972 accuracy 0.86\n",
            "epoch  0 batch 800 loss: 18.169708 accuracy 0.92\n",
            "epoch  0 batch 850 loss: 12.387032 accuracy 0.96\n",
            "epoch  0 batch 900 loss: 13.440646 accuracy 0.9\n",
            "epoch  0 batch 950 loss: 17.047516 accuracy 0.9\n",
            "epoch  0 batch 1000 loss: 21.757261 accuracy 0.88\n",
            "epoch  0 batch 1050 loss: 8.463076 accuracy 0.92\n",
            "epoch  0 batch 1100 loss: 15.473442 accuracy 0.92\n",
            "epoch  0 batch 1150 loss: 11.02029 accuracy 0.94\n",
            "epoch  0 batch 1200 loss: 3.4555202 accuracy 1.0\n",
            "end of epoch  0 loss 1841.7916 accuracy 0.9445\n"
          ]
        }
      ],
      "source": [
        "loss_values=[]\n",
        "accuracies = []\n",
        "epochs = 1\n",
        "\n",
        "for i in range(epochs):\n",
        "    j=0\n",
        "    # each batch has 50 examples\n",
        "    for x_train_batch, y_train_batch in train_ds2:\n",
        "        j+=1\n",
        "        current_loss = train_step(x_train_batch, y_train_batch)\n",
        "        if j%50==0: #reporting intermittent batch statistics\n",
        "            correct_prediction = tf.equal(tf.argmax(y_CNN(x_train_batch), axis=1),\n",
        "                                  tf.argmax(y_train_batch, axis=1))\n",
        "            #  accuracy\n",
        "            accuracy = tf.reduce_mean(tf.cast(correct_prediction, tf.float32)).numpy()\n",
        "            print(\"epoch \", str(i), \"batch\", str(j), \"loss:\", str(current_loss),\n",
        "                     \"accuracy\", str(accuracy))\n",
        "\n",
        "    current_loss = cross_entropy( y_train, y_CNN( x_image_train )).numpy()\n",
        "    loss_values.append(current_loss)\n",
        "    correct_prediction = tf.equal(tf.argmax(y_CNN(x_image_train), axis=1),\n",
        "                                  tf.argmax(y_train, axis=1))\n",
        "    #  accuracy\n",
        "    accuracy = tf.reduce_mean(tf.cast(correct_prediction, tf.float32)).numpy()\n",
        "    accuracies.append(accuracy)\n",
        "    print(\"end of epoch \", str(i), \"loss\", str(current_loss), \"accuracy\", str(accuracy) )"
      ]
    },
    {
      "cell_type": "markdown",
      "metadata": {
        "id": "zWrlUf0ObiLJ"
      },
      "source": [
        "<div class=\"alert alert-success alertsuccess\" style=\"margin-top: 20px\">\n",
        "<font size = 3><strong><i>Wow...95% accuracy after only 1 epoch!  You can increase the number of epochs in the previsous cell if you REALLY have time to wait, or you are running it using PowerAI (<b>change the type of the cell to code</b>)</i></strong></font>\n"
      ]
    },
    {
      "cell_type": "markdown",
      "metadata": {
        "id": "M1CoSxCXbiLK"
      },
      "source": [
        "<i>PS. If you have problems running this notebook, please shutdown all your Jupyter runnning notebooks, clear all cells outputs and run each cell only after the completion of the previous cell.</i>\n"
      ]
    },
    {
      "cell_type": "markdown",
      "metadata": {
        "id": "O1x6sql-biLK"
      },
      "source": [
        "<hr>\n"
      ]
    },
    {
      "cell_type": "markdown",
      "metadata": {
        "id": "Pn2do56ZbiLL"
      },
      "source": [
        "<a id=\"ref9\"></a>\n",
        "<h2>Evaluate the model</h2>\n"
      ]
    },
    {
      "cell_type": "markdown",
      "metadata": {
        "id": "TIhCJzdYbiLL"
      },
      "source": [
        "Print the evaluation to the user\n"
      ]
    },
    {
      "cell_type": "code",
      "execution_count": 62,
      "metadata": {
        "colab": {
          "base_uri": "https://localhost:8080/"
        },
        "id": "-rs5cElRbiLM",
        "outputId": "39301e63-1a77-4c23-fbf4-a0d90b62faac"
      },
      "outputs": [
        {
          "output_type": "stream",
          "name": "stdout",
          "text": [
            "batch 100 accuracy 0.94\n",
            "batch 200 accuracy 0.98\n",
            "batch 300 accuracy 0.94\n",
            "batch 400 accuracy 0.98\n",
            "batch 500 accuracy 0.9\n",
            "batch 600 accuracy 0.92\n",
            "batch 700 accuracy 0.9\n",
            "batch 800 accuracy 0.98\n",
            "batch 900 accuracy 0.92\n",
            "batch 1000 accuracy 0.92\n",
            "batch 1100 accuracy 0.96\n",
            "batch 1200 accuracy 0.98\n",
            "accuracy of entire set 0.9445\n"
          ]
        }
      ],
      "source": [
        "j=0\n",
        "acccuracies=[]\n",
        "# evaluate accuracy by batch and average...reporting every 100th batch\n",
        "for x_train_batch, y_train_batch in train_ds2:\n",
        "        j+=1\n",
        "        correct_prediction = tf.equal(tf.argmax(y_CNN(x_train_batch), axis=1),\n",
        "                                  tf.argmax(y_train_batch, axis=1))\n",
        "        accuracy = tf.reduce_mean(tf.cast(correct_prediction, tf.float32)).numpy()\n",
        "        #accuracies.append(accuracy)\n",
        "        if j%100==0:\n",
        "            print(\"batch\", str(j), \"accuracy\", str(accuracy) )\n",
        "import numpy as np\n",
        "print(\"accuracy of entire set\", str(np.mean(accuracies)))"
      ]
    },
    {
      "cell_type": "markdown",
      "metadata": {
        "id": "3-Ea0fyPbiLM"
      },
      "source": [
        "<h3>Visualization</h3>\n"
      ]
    },
    {
      "cell_type": "markdown",
      "metadata": {
        "id": "BNNdiAYQbiLN"
      },
      "source": [
        "Do you want to look at all the filters?\n"
      ]
    },
    {
      "cell_type": "code",
      "execution_count": 66,
      "metadata": {
        "id": "qf5cmYoCbiLN"
      },
      "outputs": [],
      "source": [
        "kernels = tf.reshape(tf.transpose(W_conv1, perm=[2, 3, 0,1]),[32, -1])"
      ]
    },
    {
      "cell_type": "code",
      "execution_count": null,
      "metadata": {
        "id": "QwsQ3PZ9biLP"
      },
      "outputs": [],
      "source": [
        "!wget --output-document utils1.py https://cf-courses-data.s3.us.cloud-object-storage.appdomain.cloud/IBMDeveloperSkillsNetwork-DL0120EN-SkillsNetwork/labs/Week2/data/utils.py\n",
        "import utils1\n",
        "import imp\n",
        "imp.reload(utils1)\n",
        "from utils1 import tile_raster_images\n",
        "import matplotlib.pyplot as plt\n",
        "from PIL import Image\n",
        "%matplotlib inline\n",
        "image = Image.fromarray(tile_raster_images(kernels.numpy(), img_shape=(5, 5) ,tile_shape=(4, 8), tile_spacing=(1, 1)))\n",
        "### Plot image\n",
        "plt.rcParams['figure.figsize'] = (18.0, 18.0)\n",
        "imgplot = plt.imshow(image)\n",
        "imgplot.set_cmap('gray')"
      ]
    },
    {
      "cell_type": "markdown",
      "metadata": {
        "id": "PaVevd3ZbiLQ"
      },
      "source": [
        "Do you want to see the output of an image passing through first convolution layer?\n"
      ]
    },
    {
      "cell_type": "code",
      "execution_count": null,
      "metadata": {
        "id": "FlaamNgbbiLR"
      },
      "outputs": [],
      "source": [
        "import numpy as np\n",
        "plt.rcParams['figure.figsize'] = (5.0, 5.0)\n",
        "sampleimage = [x_image_train[0]]\n",
        "plt.imshow(np.reshape(sampleimage,[28,28]), cmap=\"gray\")"
      ]
    },
    {
      "cell_type": "code",
      "execution_count": null,
      "metadata": {
        "id": "KHAgzeHdbiLR"
      },
      "outputs": [],
      "source": [
        "#ActivatedUnits = sess.run(convolve1,feed_dict={x:np.reshape(sampleimage,[1,784],order='F'),keep_prob:1.0})\n",
        "keep_prob=1.0\n",
        "ActivatedUnits = convolve1(sampleimage)\n",
        "\n",
        "filters = ActivatedUnits.shape[3]\n",
        "plt.figure(1, figsize=(20,20))\n",
        "n_columns = 6\n",
        "n_rows = np.math.ceil(filters / n_columns) + 1\n",
        "for i in range(filters):\n",
        "    plt.subplot(n_rows, n_columns, i+1)\n",
        "    plt.title('Filter ' + str(i))\n",
        "    plt.imshow(ActivatedUnits[0,:,:,i], interpolation=\"nearest\", cmap=\"gray\")"
      ]
    },
    {
      "cell_type": "markdown",
      "metadata": {
        "id": "nP3y1pyRbiLV"
      },
      "source": [
        "What about second convolution layer?\n"
      ]
    },
    {
      "cell_type": "code",
      "execution_count": null,
      "metadata": {
        "id": "um3GahXbbiLV"
      },
      "outputs": [],
      "source": [
        "#ActivatedUnits = sess.run(convolve2,feed_dict={x:np.reshape(sampleimage,[1,784],order='F'),keep_prob:1.0})\n",
        "ActivatedUnits = convolve2(sampleimage)\n",
        "filters = ActivatedUnits.shape[3]\n",
        "plt.figure(1, figsize=(20,20))\n",
        "n_columns = 8\n",
        "n_rows = np.math.ceil(filters / n_columns) + 1\n",
        "for i in range(filters):\n",
        "    plt.subplot(n_rows, n_columns, i+1)\n",
        "    plt.title('Filter ' + str(i))\n",
        "    plt.imshow(ActivatedUnits[0,:,:,i], interpolation=\"nearest\", cmap=\"gray\")"
      ]
    },
    {
      "cell_type": "markdown",
      "metadata": {
        "id": "Uo8h9OwAbiLY"
      },
      "source": [
        "### References:\n",
        "\n",
        "https://en.wikipedia.org/wiki/Deep_learning    \n",
        "http://ruder.io/optimizing-gradient-descent/<br>\n",
        "http://yann.lecun.com/exdb/mnist/  \n",
        "https://www.quora.com/Artificial-Neural-Networks-What-is-the-difference-between-activation-functions  \n",
        "https://www.tensorflow.org/versions/r0.9/tutorials/mnist/pros/index.html  \n"
      ]
    }
  ],
  "metadata": {
    "kernelspec": {
      "display_name": "Python",
      "language": "python",
      "name": "conda-env-python-py"
    },
    "language_info": {
      "codemirror_mode": {
        "name": "ipython",
        "version": 3
      },
      "file_extension": ".py",
      "mimetype": "text/x-python",
      "name": "python",
      "nbconvert_exporter": "python",
      "pygments_lexer": "ipython3",
      "version": "3.7.12"
    },
    "colab": {
      "provenance": [],
      "include_colab_link": true
    }
  },
  "nbformat": 4,
  "nbformat_minor": 0
}